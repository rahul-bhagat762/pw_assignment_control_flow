{
 "cells": [
  {
   "cell_type": "markdown",
   "id": "a554a159-3230-4133-ba52-2c29386c2f3e",
   "metadata": {},
   "source": [
    "Basic If-Else Statements:"
   ]
  },
  {
   "cell_type": "code",
   "execution_count": 2,
   "id": "6cbf879b-875e-41cd-a416-39384443545b",
   "metadata": {},
   "outputs": [
    {
     "name": "stdin",
     "output_type": "stream",
     "text": [
      "Enter a number: -76\n"
     ]
    },
    {
     "name": "stdout",
     "output_type": "stream",
     "text": [
      "This is negative number\n"
     ]
    }
   ],
   "source": [
    "#1. Write a Python program to check if a given number is positive or negative.\n",
    "n = int(input(\"Enter a number:\"))\n",
    "if(n>0):\n",
    "    print(\"This is positive number\")\n",
    "else:\n",
    "    print(\"This is negative number\")"
   ]
  },
  {
   "cell_type": "code",
   "execution_count": 4,
   "id": "71505a6f-0e82-4d86-a38c-3ebf95f8c421",
   "metadata": {},
   "outputs": [
    {
     "name": "stdin",
     "output_type": "stream",
     "text": [
      "Enter your age: 13\n"
     ]
    },
    {
     "name": "stdout",
     "output_type": "stream",
     "text": [
      "You are not eligible for voting\n"
     ]
    }
   ],
   "source": [
    "# 2. Create a program that determines if a person is eligible to vote based on their age.\n",
    "n = int(input(\"Enter your age:\"))\n",
    "if(n>=18):\n",
    "    print(\"You are eligible for voting\")\n",
    "else:\n",
    "     print(\"You are not eligible for voting\")\n",
    "        "
   ]
  },
  {
   "cell_type": "code",
   "execution_count": 5,
   "id": "f86c7043-a33a-4c66-8de1-5367bcfbee35",
   "metadata": {},
   "outputs": [
    {
     "name": "stdin",
     "output_type": "stream",
     "text": [
      "Enter first number : 34\n",
      "Enter first number : 67\n"
     ]
    },
    {
     "name": "stdout",
     "output_type": "stream",
     "text": [
      "67 is greater than 34\n"
     ]
    }
   ],
   "source": [
    "# 3. Develop a program to find the maximum of two numbers using if-else statements.\n",
    "a = int(input(\"Enter first number :\"))\n",
    "b = int(input(\"Enter second number :\"))\n",
    "if(a>b):\n",
    "    print(a,\"is greater than\",b)\n",
    "else:\n",
    "    print(b,\"is greater than\",a)"
   ]
  },
  {
   "cell_type": "code",
   "execution_count": 8,
   "id": "5c669da6-4b2b-46db-9efc-f45f822ed76c",
   "metadata": {},
   "outputs": [
    {
     "name": "stdin",
     "output_type": "stream",
     "text": [
      "Enter your year: 4357\n"
     ]
    },
    {
     "name": "stdout",
     "output_type": "stream",
     "text": [
      "This 4357 is not leap year \n"
     ]
    }
   ],
   "source": [
    "# 4. Write a Python script to classify a given year as a leap year or not.\n",
    "n = int(input(\"Enter your year:\"))\n",
    "if(n%400==0 and n%100==0):\n",
    "    print(f\"This {n} is leap year \")\n",
    "elif(n%4==0 and n%100!=0):\n",
    "    print(f\"This {n} is leap year \")\n",
    "else:\n",
    "    print(f\"This {n} is not leap year \")"
   ]
  },
  {
   "cell_type": "code",
   "execution_count": 22,
   "id": "4678c638-14cf-472c-825b-8af7a2bb78b5",
   "metadata": {},
   "outputs": [
    {
     "name": "stdin",
     "output_type": "stream",
     "text": [
      "Enter a character for check vowel or not r\n"
     ]
    },
    {
     "name": "stdout",
     "output_type": "stream",
     "text": [
      "r  is consonant\n"
     ]
    }
   ],
   "source": [
    "vowel = \"aeiouAEIOU\"\n",
    "s = input(\"Enter a character for check vowel or not\")\n",
    "if s in vowel:\n",
    "    print(s,\" is vowel\")\n",
    "else:\n",
    "    print(s,\" is consonant\")"
   ]
  },
  {
   "cell_type": "code",
   "execution_count": 1,
   "id": "21248ca1-703b-4d7a-9096-4f58863bf194",
   "metadata": {},
   "outputs": [
    {
     "name": "stdin",
     "output_type": "stream",
     "text": [
      "Enter your number: 45\n"
     ]
    },
    {
     "name": "stdout",
     "output_type": "stream",
     "text": [
      "45 is odd\n"
     ]
    }
   ],
   "source": [
    "# 6. Implement a program to determine whether a given number is even or odd.\n",
    "n = int(input(\"Enter your number:\"))\n",
    "if(n%2==0):\n",
    "    print(n,\"is even\")\n",
    "else:\n",
    "    print(n,\"is odd\")"
   ]
  },
  {
   "cell_type": "code",
   "execution_count": 2,
   "id": "6dbee4bf-d941-4e32-af6f-9ba913c96611",
   "metadata": {},
   "outputs": [
    {
     "name": "stdin",
     "output_type": "stream",
     "text": [
      "Enter your number: 34\n"
     ]
    },
    {
     "name": "stdout",
     "output_type": "stream",
     "text": [
      "absolute value of34 is 34\n"
     ]
    }
   ],
   "source": [
    "# 7. Write a Python function to calculate the absolute value of a number without using the `abs()` function.\n",
    "def absolute(n):\n",
    "    if(n>0):\n",
    "        return n\n",
    "    else:\n",
    "        return -n\n",
    "n = int(input(\"Enter your number:\"))\n",
    "print(f\"absolute value of {n} is {absolute(n)}\")    "
   ]
  },
  {
   "cell_type": "code",
   "execution_count": 4,
   "id": "5fbc3fd2-dd8d-443e-b6e5-86070c136123",
   "metadata": {},
   "outputs": [
    {
     "name": "stdin",
     "output_type": "stream",
     "text": [
      "Enter first number : 54\n",
      "Enter second number : 87\n",
      "Enter Third number : 98\n"
     ]
    },
    {
     "name": "stdout",
     "output_type": "stream",
     "text": [
      "98 is greater\n"
     ]
    }
   ],
   "source": [
    "# Develop a program that determines the largest of three given numbers using if-else statements.\n",
    "a = int(input(\"Enter first number :\"))\n",
    "b = int(input(\"Enter second number :\"))\n",
    "c = int(input(\"Enter Third number :\"))\n",
    "if(a>b and a>c):\n",
    "    print(a,\"is greater\")\n",
    "elif(b>a and b>c):\n",
    "    print(b,\"is greater\")\n",
    "else:\n",
    "    print(c,\"is greater\")"
   ]
  },
  {
   "cell_type": "code",
   "execution_count": 6,
   "id": "5be37de5-5f26-4e93-a211-c04ad6313bdb",
   "metadata": {},
   "outputs": [
    {
     "name": "stdin",
     "output_type": "stream",
     "text": [
      "Enter your string: ox\n"
     ]
    },
    {
     "name": "stdout",
     "output_type": "stream",
     "text": [
      "ox is not palindrom\n"
     ]
    }
   ],
   "source": [
    "#Create a program that checks if a given string is a palindrome.\n",
    "s = input(\"Enter your string:\")\n",
    "r = s[::-1]\n",
    "if(s==r):\n",
    "    print(s,\"is palindrom\")\n",
    "else:\n",
    "     print(s,\"is not palindrom\")"
   ]
  },
  {
   "cell_type": "code",
   "execution_count": 9,
   "id": "e9070eb7-b9e7-4e39-bcd6-0ec0c263140f",
   "metadata": {},
   "outputs": [
    {
     "name": "stdin",
     "output_type": "stream",
     "text": [
      "Enter your marks: 100\n"
     ]
    },
    {
     "name": "stdout",
     "output_type": "stream",
     "text": [
      "Grade A\n",
      "Please Enter Valid Input\n"
     ]
    }
   ],
   "source": [
    "#10. Write a Python program to calculate the grade based on a student's score.\n",
    "##take input as score from user \n",
    "marks = int(input(\"Enter your marks:\"))\n",
    "#if marks is lies between 90 to 100 then print(\"Grade A\")\n",
    "if(marks>=90 and marks<=100):\n",
    "    print(\"Grade A\")\n",
    "#if marks is lies between 80 to 89 then print(\"Grade B\")\n",
    "if(marks>=80 and marks<=89):\n",
    "    print(\"Grade B\")\n",
    "#if marks is lies between 70 to 79 then print(\"Grade C\")\n",
    "if(marks>=70 and marks<=79):\n",
    "    print(\"Grade C\")\n",
    "#if marks is lies between 60 to 69 then print(\"Grade D\")\n",
    "if(marks>=60 and marks<=69):\n",
    "    print(\"Grade D\")\n",
    "#if marks is lies between 0 to 59 then print(\"Grade f\")\n",
    "if(marks>=0 and marks<=59):\n",
    "    print(\"Grade F\")\n",
    "else:\n",
    "    print(\"Please Enter Valid Input\")"
   ]
  },
  {
   "cell_type": "markdown",
   "id": "509d4c16-d818-4397-b826-3a0a432bd15f",
   "metadata": {},
   "source": [
    "Nested If-Else Statements:"
   ]
  },
  {
   "cell_type": "code",
   "execution_count": 1,
   "id": "581f17c5-9346-439c-b1a9-25d812964c81",
   "metadata": {},
   "outputs": [
    {
     "name": "stdin",
     "output_type": "stream",
     "text": [
      "enter a first Number: 56\n",
      "Enter second number: 87\n",
      "Enter Third number: 43\n"
     ]
    },
    {
     "name": "stdout",
     "output_type": "stream",
     "text": [
      "87 is Greater\n"
     ]
    }
   ],
   "source": [
    "#11. Write a program to find the largest among three numbers using nested if-else statements.\n",
    "a = int(input(\"enter a first Number:\"))\n",
    "b = int(input(\"Enter second number:\"))\n",
    "c = int(input(\"Enter Third number:\"))\n",
    "if(a>b):\n",
    "    if(a>c):\n",
    "        print(a,\"is Greater\")\n",
    "    else:\n",
    "        print(c,\"is Greater\")\n",
    "else:\n",
    "    if(b>c):\n",
    "        print(b,\"is Greater\")\n",
    "    else:\n",
    "        print(c,\"is Greater\")\n"
   ]
  },
  {
   "cell_type": "code",
   "execution_count": 5,
   "id": "116ae3f9-2436-4de7-b13b-e7ea19ceff5e",
   "metadata": {},
   "outputs": [
    {
     "name": "stdin",
     "output_type": "stream",
     "text": [
      "enter a first Number: 54\n",
      "Enter second number: 76\n",
      "Enter Third number: 09\n"
     ]
    },
    {
     "name": "stdout",
     "output_type": "stream",
     "text": [
      "scalene.\n"
     ]
    }
   ],
   "source": [
    "# 12. Implement a program to determine if a triangle is equilateral, isosceles, or scalene.\n",
    "a = int(input(\"enter a first Number:\"))\n",
    "b = int(input(\"Enter second number:\"))\n",
    "c = int(input(\"Enter Third number:\"))\n",
    "if(a==b):\n",
    "    if(b==c):\n",
    "        if(c==a):\n",
    "            print(\"equilateral\")\n",
    "elif(a==b or b==c or c==a):\n",
    "    print(\"isosceles\")\n",
    "else:\n",
    "    if(a!=b):\n",
    "        if(b!=c):\n",
    "            if(c!=a):\n",
    "                print(\"scalene.\")\n",
    "\n"
   ]
  },
  {
   "cell_type": "code",
   "execution_count": 8,
   "id": "7ff76990-4902-479e-9fc0-673cb543b2bc",
   "metadata": {},
   "outputs": [
    {
     "name": "stdin",
     "output_type": "stream",
     "text": [
      "Enter your number: -76\n"
     ]
    },
    {
     "name": "stdout",
     "output_type": "stream",
     "text": [
      "negative\n"
     ]
    }
   ],
   "source": [
    "# 14. Write a Python script to determine if a number is positive, negative, or zero.\n",
    "n = int(input(\"Enter your number:\"))\n",
    "if(n!=0):\n",
    "    if(n>0):\n",
    "        print(\"positive\")\n",
    "    else:\n",
    "        print(\"Negative\")\n",
    "else:\n",
    "    print(\"Zero\")\n",
    "\n",
    "\n"
   ]
  },
  {
   "cell_type": "code",
   "execution_count": 9,
   "id": "06224828-1cae-4fa5-a9d0-76518dbad019",
   "metadata": {},
   "outputs": [
    {
     "name": "stdin",
     "output_type": "stream",
     "text": [
      "Enter your number 17\n"
     ]
    },
    {
     "name": "stdout",
     "output_type": "stream",
     "text": [
      "teenager\n"
     ]
    }
   ],
   "source": [
    "# Create a program to check if a person is a teenager (between 13 and 19 years old).\n",
    "n = int(input(\"Enter your number\"))\n",
    "if(n>13):\n",
    "    if(n<19):\n",
    "        print(\"Teenager\")\n",
    "    "
   ]
  },
  {
   "cell_type": "code",
   "execution_count": 13,
   "id": "a086ba80-f01f-4879-ab6d-e9d62ca33124",
   "metadata": {},
   "outputs": [
    {
     "name": "stdin",
     "output_type": "stream",
     "text": [
      "Enter angle: 89\n"
     ]
    },
    {
     "name": "stdout",
     "output_type": "stream",
     "text": [
      "Acute Angle\n"
     ]
    }
   ],
   "source": [
    "# 16. Develop a program that determines the type of angle based on its measure (acute, obtuse, or right).\n",
    "a = int(input(\"Enter angle:\"))\n",
    "if(a<90):\n",
    "    print(\"Acute Angle\")\n",
    "elif(a>90):\n",
    "    if(a<180):\n",
    "        print(\"Obtuse Angle\")\n",
    "elif(a==90):\n",
    "    print(\"Right Angle\")"
   ]
  },
  {
   "cell_type": "code",
   "execution_count": 15,
   "id": "02b17119-bdda-4701-b6c2-20780071680c",
   "metadata": {},
   "outputs": [
    {
     "name": "stdin",
     "output_type": "stream",
     "text": [
      "enter a : 1\n",
      "Enter b : -5\n",
      "Enter c: 6\n"
     ]
    },
    {
     "name": "stdout",
     "output_type": "stream",
     "text": [
      "roots are 3.0,2.0\n"
     ]
    }
   ],
   "source": [
    "# 17. Write a Python program to calculate the roots of a quadratic equation.\n",
    "a = int(input(\"enter a :\"))\n",
    "b = int(input(\"Enter b :\"))\n",
    "c = int(input(\"Enter c:\"))\n",
    "D = (b**2)-(4*a*c)\n",
    "if(D==0):\n",
    "    r1=r2=-b/(2*a)\n",
    "    print(f\"roots are {r1} , {r2}\")\n",
    "elif(D>0):\n",
    "    r1 = (-b+(D**0.5))/2*a\n",
    "    r2 = (-b-(D**0.5))/2*a\n",
    "    print(f\"roots are {r1} , {r2}\")\n",
    "else:\n",
    "    print(\"imaginary solution exit\")"
   ]
  },
  {
   "cell_type": "code",
   "execution_count": 19,
   "id": "08969e29-d770-4149-8adc-b99286db5308",
   "metadata": {},
   "outputs": [
    {
     "name": "stdin",
     "output_type": "stream",
     "text": [
      "Enter your number(1 to 7): 9\n"
     ]
    },
    {
     "name": "stdout",
     "output_type": "stream",
     "text": [
      "Please enter valid input\n"
     ]
    }
   ],
   "source": [
    "# 18. Implement a program to determine the day of the week based on a user-provided number (1 for Monday, 2\n",
    "# for Tuesday, etc.).\n",
    "n = int(input(\"Enter your number(1 to 7):\"))\n",
    "if(n == 1):\n",
    "    print(\"Monday\")\n",
    "elif(n == 2):\n",
    "    print(\"Tuesday\")\n",
    "elif(n == 3):\n",
    "    print(\"Wedday\")\n",
    "elif(n == 4):\n",
    "    print(\"Thursday\")\n",
    "elif(n == 5):\n",
    "    print(\"Friday\")\n",
    "elif(n == 6):\n",
    "    print(\"Saturday\")\n",
    "elif(n == 7):\n",
    "    print(\"sunday\")\n",
    "else:\n",
    "    print(\"Please enter valid input\")\n",
    "    "
   ]
  },
  {
   "cell_type": "code",
   "execution_count": 30,
   "id": "67485743-b95c-4978-bcc9-f8aa4f38b94b",
   "metadata": {},
   "outputs": [
    {
     "name": "stdin",
     "output_type": "stream",
     "text": [
      "Enter your year: 2015\n"
     ]
    },
    {
     "name": "stdout",
     "output_type": "stream",
     "text": [
      "This 2015 is not leap year \n"
     ]
    }
   ],
   "source": [
    "# Create a program that determines if a year is a leap year and also if it is evenly divisible by 400.\n",
    "n = int(input(\"Enter your year:\"))\n",
    "if(n%400==0):\n",
    "    if(n%100==0):\n",
    "        print(f\"This {n} is leap year \")\n",
    "elif(n%4==0):\n",
    "    if(n%100!=0):\n",
    "        print(f\"This {n} is leap year \")\n",
    "else:\n",
    "    print(f\"This {n} is not leap year \")"
   ]
  },
  {
   "cell_type": "code",
   "execution_count": 26,
   "id": "c5a717c7-6dcd-4829-8b7f-53cd2e7c31ea",
   "metadata": {},
   "outputs": [
    {
     "name": "stdin",
     "output_type": "stream",
     "text": [
      "Enter : 2002\n"
     ]
    },
    {
     "name": "stdout",
     "output_type": "stream",
     "text": [
      "It is not a prime number\n"
     ]
    }
   ],
   "source": [
    "def prime_check(n):\n",
    "    if(n<=1):\n",
    "        return False\n",
    "    else:\n",
    "        for i in range(2,int(n**0.5)+1):\n",
    "            if(n%i==0):\n",
    "                return False\n",
    "        return True\n",
    "\n",
    "n = int(input(\"Enter :\"))\n",
    "\n",
    "if(prime_check(n)):\n",
    "    print(\"It is a prime number\")\n",
    "else:\n",
    "    print(\"It is not a prime number\")\n",
    "    \n"
   ]
  },
  {
   "cell_type": "markdown",
   "id": "da56f90d-4b83-41d4-8869-0ed224192b79",
   "metadata": {},
   "source": [
    "Elif Statement"
   ]
  },
  {
   "cell_type": "code",
   "execution_count": 26,
   "id": "14bd9751-20df-44b5-904c-91f7f3dc4f5e",
   "metadata": {},
   "outputs": [
    {
     "name": "stdin",
     "output_type": "stream",
     "text": [
      "Enter your number: 59.98\n"
     ]
    },
    {
     "name": "stdout",
     "output_type": "stream",
     "text": [
      "Grade: F\n"
     ]
    }
   ],
   "source": [
    "# 21. Write a Python program to assign grades based on different ranges of scores using elif statements.\n",
    "n = float(input(\"Enter your number:\"))\n",
    "if(n>=90 and n<100):\n",
    "    print(\"Grade: A\")\n",
    "elif(n>=80 and n<90):\n",
    "    print(\"Grade: B\")\n",
    "elif(n>=70 and n<80):\n",
    "    print(\"Grade: C\")\n",
    "elif(n>=60 and n<70):\n",
    "    print(\"Grade: D\")\n",
    "elif(n>=0 and n<60):\n",
    "    print(\"Grade: F\")\n",
    "else:\n",
    "    print(\"please Enter Valid Input😕\")"
   ]
  },
  {
   "cell_type": "code",
   "execution_count": 32,
   "id": "e7b5ca0f-60d2-472e-910f-2f4a9d0fb257",
   "metadata": {},
   "outputs": [
    {
     "name": "stdin",
     "output_type": "stream",
     "text": [
      "Enter your angle: 360\n"
     ]
    },
    {
     "name": "stdout",
     "output_type": "stream",
     "text": [
      "Full rotation\n"
     ]
    }
   ],
   "source": [
    "# 22. Implement a program to determine the type of a triangle based on its angles.\n",
    "a = int(input(\"Enter your angle:\"))\n",
    "if(a<90):\n",
    "    print(\"Acute Angle\")\n",
    "elif(a==90):\n",
    "    print(\"Right Angle\")\n",
    "elif(a>90 and a<180):\n",
    "    print(\"Obtuse Angle\")\n",
    "elif(a==180):\n",
    "    print(\"straight angle\")\n",
    "elif(a>180 and a<360):\n",
    "    print(\"Reflex Angle\")\n",
    "elif(a==360):\n",
    "    print(\"Full rotation\")\n",
    "else:\n",
    "    print(\"Enter valid input:\")"
   ]
  },
  {
   "cell_type": "code",
   "execution_count": 36,
   "id": "9f7d84de-c556-4505-b546-3a61f8ef4088",
   "metadata": {},
   "outputs": [
    {
     "name": "stdin",
     "output_type": "stream",
     "text": [
      "Enter your BMI: 27\n"
     ]
    },
    {
     "name": "stdout",
     "output_type": "stream",
     "text": [
      "Over weight\n"
     ]
    }
   ],
   "source": [
    "# 23. Develop a program to categorize a given person's BMI into underweight, normal, overweight, or obese using\n",
    "# elif statements.\n",
    "bmi = float(input(\"Enter your BMI:\"))\n",
    "if(bmi<18.5):\n",
    "    print(\"Underweight\")\n",
    "elif(bmi>18.5 and bmi<=25):\n",
    "    print(\"Normal\")\n",
    "elif(bmi>25.0 and bmi<30):\n",
    "    print(\"Over weight\")\n",
    "elif(bmi>30.0):\n",
    "    print(\"obesity range\")\n",
    "\n"
   ]
  },
  {
   "cell_type": "code",
   "execution_count": 8,
   "id": "b240c397-c63c-43f6-ac39-990abb1eabe7",
   "metadata": {},
   "outputs": [
    {
     "name": "stdin",
     "output_type": "stream",
     "text": [
      "Enter your character: [\n"
     ]
    },
    {
     "name": "stdout",
     "output_type": "stream",
     "text": [
      "it is special character \n"
     ]
    }
   ],
   "source": [
    "# 25. Write a Python script to determine the type of a character (uppercase, lowercase, or special) using elif\n",
    "# statements.\n",
    "s = input(\"Enter your character:\")\n",
    "if(s.isalpha()):\n",
    "    if(s.isupper()):\n",
    "        print(\"is is uppercae\")\n",
    "    elif(s.islower()):\n",
    "        print(\"it is lowercase\")\n",
    "if(s.isnumeric()):\n",
    "    print(\"it is  not a string\")\n",
    "else:\n",
    "    print(\"it is special character \")"
   ]
  },
  {
   "cell_type": "code",
   "execution_count": 10,
   "id": "310675e5-7a70-4fb3-9e25-ffe52dd28632",
   "metadata": {},
   "outputs": [
    {
     "name": "stdin",
     "output_type": "stream",
     "text": [
      "Enter your Ammount: 97587.97\n"
     ]
    },
    {
     "name": "stdout",
     "output_type": "stream",
     "text": [
      "Your Original price is $97587.97 and after some discounts the price will be $82949.77\n"
     ]
    }
   ],
   "source": [
    "# 26. Implement a program to calculate the discounted price based on different purchase amounts using elif\n",
    "# statements.\n",
    "price = float(input(\"Enter your Ammount:\"))\n",
    "if(price<50):\n",
    "    discount_price = price\n",
    "elif(price<100):\n",
    "    discount_price = price - (price*0.05)\n",
    "elif(price<200):\n",
    "    discount_price = price - (price*0.10)\n",
    "else:\n",
    "    discount_price = price - (price*0.15)\n",
    "    \n",
    "print(f\"Your Original price is ${price:.2f} and after some discounts the price will be ${discount_price:.2f}\")\n"
   ]
  },
  {
   "cell_type": "code",
   "execution_count": 17,
   "id": "1fe7af9d-26a4-4c59-939a-09ef4599bd9b",
   "metadata": {},
   "outputs": [
    {
     "name": "stdin",
     "output_type": "stream",
     "text": [
      "Enter Your consumption: 7698\n"
     ]
    },
    {
     "name": "stdout",
     "output_type": "stream",
     "text": [
      "Your Total Electricity bill is Rs.1904.5\n"
     ]
    }
   ],
   "source": [
    "# 27. Develop a program to calculate the electricity bill based on different consumption slabs using elif\n",
    "# statements.\n",
    "##get input in kilo watts\n",
    "consuption = float(input(\"Enter Your consumption:\"))\n",
    "\n",
    "#define electricity rate in different consuption\n",
    "slab1 = 0.15\n",
    "slab2 = 0.20\n",
    "slab3 = 0.25\n",
    "\n",
    "# Initialize variables to calculate the bill\n",
    "total_bill = 0\n",
    "\n",
    "# calculate bills based on diferent slabs using elif\n",
    "if(consuption<=100):\n",
    "    total_bill = consuption * slab1\n",
    "elif(consuption<=300):\n",
    "    total_bill = (100*slab1)+((consuption-100)*slab2)\n",
    "else:\n",
    "    total_bill = (100*slab1)+(200*slab2)+((consuption-300)*slab3)\n",
    "    \n",
    "#display total bill\n",
    "print(f\"Your Total Electricity bill is Rs.{total_bill}\")"
   ]
  },
  {
   "cell_type": "code",
   "execution_count": 5,
   "id": "6270dde3-38c4-4b88-8319-d48e62e54154",
   "metadata": {},
   "outputs": [
    {
     "name": "stdin",
     "output_type": "stream",
     "text": [
      "Enter your angles: 76.98 98.09 78.65 89.56\n",
      "Enter your sides: 98.0 75.34 90 56.87\n"
     ]
    },
    {
     "name": "stdout",
     "output_type": "stream",
     "text": [
      "This is convex quadrilateral.\n"
     ]
    }
   ],
   "source": [
    "#28. Create a program to determine the type of quadrilateral based on its angles and sides using elif\n",
    "# statements.\n",
    "##this line take multiple input at time so it take 4 angles\n",
    "a1,a2,a3,a4 = map(float,input(\"Enter your angles:\").split(\" \"))\n",
    "# it take 4 sides\n",
    "s1,s2,s3,s4 = map(float,input(\"Enter your sides:\").split(\" \"))\n",
    "\n",
    "# all angles are equal it is called square \n",
    "if(a1==a2==a3==a4):\n",
    "    print(\"This is Square\")\n",
    "# all angles are equal and opposite sides are equale it is called rectangle\n",
    "elif(a1==a2==a3==a4 and (s1==s3 and s2==s4)):\n",
    "    print(\"This is Rectangle\")\n",
    "## all angles are equal and All sides are also equale it is called Parallelogram\n",
    "elif(a1==a2==a3==a4 and s1==s2==s3==s4):\n",
    "    print(\"This is Parallelogram\")\n",
    "# All sides are equale it is called Rhombus\n",
    "elif(s1==s2==s3==s4):\n",
    "    print(\"This is Rhombus\")\n",
    "#Adjacent Pairs are equal o it is called Kite  \n",
    "elif(s2==s3 and s1==s4):\n",
    "    print(\"This is Kite\")\n",
    "#addition of all angle is equal to 360 and all sides are not equal to each other it is called convex quadrilateral\n",
    "elif(a1+a2+a3+a4==360 and s1!=s2!=s3!=s4):\n",
    "    print(\"This is convex quadrilateral.\")\n",
    "#else it i General Equation\n",
    "else :\n",
    "    print(\"This is General Equation\")\n",
    "    "
   ]
  },
  {
   "cell_type": "code",
   "execution_count": 3,
   "id": "e8854d7c-1588-46d5-b064-97b3bc1342b5",
   "metadata": {},
   "outputs": [
    {
     "name": "stdin",
     "output_type": "stream",
     "text": [
      "Enter your Month: 6\n"
     ]
    },
    {
     "name": "stdout",
     "output_type": "stream",
     "text": [
      "Summer\n"
     ]
    }
   ],
   "source": [
    "# 29. Write a Python script to determine the season based on a user-provided month using elif statements.\n",
    "#tak inoput from the user as integer (1- january ,2- fabruary,..etc)\n",
    "month = int(input(\"Enter your Month:\"))\n",
    "#if month is greater than or equal to 3 and less than 6 ,this season is called as \"spring\" \n",
    "if(month>=3 and month<6):\n",
    "    print(\"spring\")\n",
    "#if month is greater than or equal to 6 and less than 9 ,this season is called as \"Summer\" \n",
    "elif(month>=6 and month<9):\n",
    "    print(\"Summer\")\n",
    "#if month is greater than or equal to 9 and less than 12 ,this season is called as \"Fall\" \n",
    "elif(month>=9 and month<12):\n",
    "    print(\"Fall\")\n",
    "#if month is greater than or equal to 12 and less than 3 ,this season is called as \"Winter\" \n",
    "elif(month==12 and (month>1 and month<3)):\n",
    "     print(\"Winter\")\n",
    "#else display to user  please enter valid input\n",
    "else:\n",
    "     print(\"Please Enter valid season:\")"
   ]
  },
  {
   "cell_type": "code",
   "execution_count": 4,
   "id": "61d8ecb9-6dcc-44ab-8e8c-ee2c272a4e66",
   "metadata": {},
   "outputs": [
    {
     "name": "stdin",
     "output_type": "stream",
     "text": [
      " 12 2002\n"
     ]
    },
    {
     "name": "stdout",
     "output_type": "stream",
     "text": [
      "This Year is leap year\n",
      "31\n"
     ]
    }
   ],
   "source": [
    "# 30. Implement a program to determine the type of a year (leap or common) and month (30 or 31 days) using\n",
    "# elif statements.\n",
    "def leap_year(n):\n",
    "    if(n%400==0 and n%100==0):\n",
    "        return True\n",
    "    elif(n%4==0 and n%100!=0):\n",
    "        return True\n",
    "    else:\n",
    "        return False\n",
    "    \n",
    "month ,year = map(int,input().split(\" \"))\n",
    "\n",
    "if(leap_year):\n",
    "    print(\"This Year is leap year\")\n",
    "    if(month==1):\n",
    "        print(\"31\")\n",
    "    elif(month==2):\n",
    "        print(\"29\")\n",
    "    elif(month==3):\n",
    "        print(\"31\")\n",
    "    elif(month==4):\n",
    "        print(\"30\")\n",
    "    elif(month==5):\n",
    "        print(\"31\")\n",
    "    elif(month==6):\n",
    "        print(\"30\")\n",
    "    elif(month==7):\n",
    "        print(\"31\")\n",
    "    elif(month==8):\n",
    "        print(\"31\")\n",
    "    elif(month==9):\n",
    "        print(\"30\")\n",
    "    elif(month==10):\n",
    "        print(\"31\")\n",
    "    elif(month==11):\n",
    "        print(\"30\")\n",
    "    elif(month==12):\n",
    "        print(\"31\")\n",
    "    else:\n",
    "        print(\"Please Enter Valid month\")\n",
    "    \n",
    "else:\n",
    "    print(\"This Year is not leap year\")\n"
   ]
  },
  {
   "cell_type": "markdown",
   "id": "1e9e6abd-b209-4bee-8521-cc7599fbdf15",
   "metadata": {},
   "source": [
    "Basic Level: Questions"
   ]
  },
  {
   "cell_type": "code",
   "execution_count": 3,
   "id": "99fcfa14-0ab2-4051-b7fd-adb257ada047",
   "metadata": {},
   "outputs": [
    {
     "name": "stdin",
     "output_type": "stream",
     "text": [
      "Enter your number 0\n"
     ]
    },
    {
     "name": "stdout",
     "output_type": "stream",
     "text": [
      "It is zero\n"
     ]
    }
   ],
   "source": [
    "# 1. Write a Python program that checks if a given number is positive, negative, or zero.\n",
    "#take a user input n for further check  \n",
    "n = int(input(\"Enter your number\"))\n",
    "# if n is less than 0 then it is negative number\n",
    "if(n<0):\n",
    "    print(\"It is Negative number\")\n",
    "# if n is greater than 0 then it is Positive number\n",
    "elif(n>0):\n",
    "    print(\"It is positive number\")\n",
    "# else it is zro\n",
    "else:\n",
    "    print(\"It is zero\")"
   ]
  },
  {
   "cell_type": "code",
   "execution_count": 5,
   "id": "950200f6-d42b-42c5-9545-f9224ff24d4f",
   "metadata": {},
   "outputs": [
    {
     "name": "stdin",
     "output_type": "stream",
     "text": [
      "Enter Your age: 12\n"
     ]
    },
    {
     "name": "stdout",
     "output_type": "stream",
     "text": [
      "You are not Eligible to vote\n"
     ]
    }
   ],
   "source": [
    "# 2. Create a program to determine if a person is eligible to vote based on their age.\n",
    "#take an input from user \n",
    "age = int(input(\"Enter Your age:\"))\n",
    "#if age is less then 18 then they are not eligible\n",
    "if(age<18):\n",
    "    print(\"You are not Eligible to vote\")\n",
    "#else they are eligible \n",
    "else:\n",
    "    print(\"You are Eligible to vote\")\n",
    "    "
   ]
  },
  {
   "cell_type": "code",
   "execution_count": 6,
   "id": "e825cc00-fba4-4a9e-b76c-c0de372fcb6a",
   "metadata": {},
   "outputs": [
    {
     "name": "stdin",
     "output_type": "stream",
     "text": [
      "Enter your 1st NUmber: 56\n",
      "Enter your 2nd NUmber: 54\n"
     ]
    },
    {
     "name": "stdout",
     "output_type": "stream",
     "text": [
      "56 is greater then 54\n"
     ]
    }
   ],
   "source": [
    "# 3. Write a program to find the maximum of two given numbers using conditional statements.\n",
    "##take 2 integer value from user \n",
    "a = int(input(\"Enter your 1st NUmber:\"))\n",
    "b = int(input(\"Enter your 2nd NUmber:\"))\n",
    "#if a is greater then print a is greater \n",
    "if(a>b):\n",
    "    print(f\"{a} is greater then {b}\")\n",
    "#else print b is greater\n",
    "else:\n",
    "     print(f\"{b} is greater then {a}\")"
   ]
  },
  {
   "cell_type": "code",
   "execution_count": 10,
   "id": "aa292646-166a-4d8e-ba01-f4a08c1e0832",
   "metadata": {},
   "outputs": [
    {
     "name": "stdin",
     "output_type": "stream",
     "text": [
      "Enter your marks: 100\n"
     ]
    },
    {
     "name": "stdout",
     "output_type": "stream",
     "text": [
      "Grade A\n"
     ]
    }
   ],
   "source": [
    "# 4. Develop a program that calculates the grade of a student based on their exam score.\n",
    "##take input as score from user \n",
    "marks = int(input(\"Enter your marks:\"))\n",
    "#if marks is lies between 90 to 100 then print(\"Grade A\")\n",
    "if(marks>=90 and marks<=100):\n",
    "    print(\"Grade A\")\n",
    "#if marks is lies between 80 to 89 then print(\"Grade B\")\n",
    "elif(marks>=80 and marks<=89):\n",
    "    print(\"Grade B\")\n",
    "#if marks is lies between 70 to 79 then print(\"Grade C\")\n",
    "elif(marks>=70 and marks<=79):\n",
    "    print(\"Grade C\")\n",
    "#if marks is lies between 60 to 69 then print(\"Grade D\")\n",
    "elif(marks>=60 and marks<=69):\n",
    "    print(\"Grade D\")\n",
    "#if marks is lies between 0 to 59 then print(\"Grade f\")\n",
    "elif(marks>=0 and marks<=59):\n",
    "    print(\"Grade F\")\n",
    "else:\n",
    "    print(\"Please Enter Valid Input\")"
   ]
  },
  {
   "cell_type": "code",
   "execution_count": 13,
   "id": "51c7cb01-fea3-4039-bb71-dc1c50e654d9",
   "metadata": {},
   "outputs": [
    {
     "name": "stdin",
     "output_type": "stream",
     "text": [
      "Enter your year: 2022\n"
     ]
    },
    {
     "name": "stdout",
     "output_type": "stream",
     "text": [
      "2022 year is leap year\n"
     ]
    }
   ],
   "source": [
    "# 5. Create a program that checks if a year is a leap year or not.\n",
    "def leap_year(n):\n",
    "    if(n%400==0 and n%100==0):\n",
    "        return True\n",
    "    elif(n%4==0 and n%100!=0):\n",
    "        return True\n",
    "    else:\n",
    "        return False\n",
    "#take input from user \n",
    "n = int(input(\"Enter your year:\"))\n",
    "##if leap_year function is true then print this year is leap year\n",
    "if(leap_year):\n",
    "    print(f\"{n} year is leap year\")\n",
    "#else print this year is not leap year\n",
    "else:\n",
    "    print(f\"{n} year is leap year\")"
   ]
  },
  {
   "cell_type": "code",
   "execution_count": 19,
   "id": "81bd8c48-c814-4d7e-a636-4c422cf3f71f",
   "metadata": {},
   "outputs": [
    {
     "name": "stdin",
     "output_type": "stream",
     "text": [
      "Enter Your sides in space separated 65 65 76\n"
     ]
    },
    {
     "name": "stdout",
     "output_type": "stream",
     "text": [
      "It is isosceles triangle.\n"
     ]
    }
   ],
   "source": [
    "# 6. Write a program to classify a triangle based on its sides' lengths.\n",
    "#using map function i take s1,s2,s3 at a time \n",
    "s1,s2,s3 = map(int,input(\"Enter Your sides in space separated\").split(\" \"))\n",
    "# if all three sides are equal then we can say that it is equilteral\n",
    "if(s1==s2 and s2==s3 and s3==s1):\n",
    "    print(\"It is equilateral triangle.\")\n",
    "    \n",
    "# if any two sides are equal then we can say that it is  isosceles triangle\n",
    "elif(s1==s2 or s2==s3 or s3==s1):\n",
    "    print(\"It is isosceles triangle.\")\n",
    "# else we can say that it is triangle\n",
    "else:\n",
    "    print(\"It is scalene triangle.\")"
   ]
  },
  {
   "cell_type": "code",
   "execution_count": 14,
   "id": "18051c6f-5e7f-4e72-bb16-181bc47176b6",
   "metadata": {},
   "outputs": [
    {
     "name": "stdin",
     "output_type": "stream",
     "text": [
      "enter a first Number: 76\n",
      "Enter second number: 87\n",
      "Enter Third number: 09\n"
     ]
    },
    {
     "name": "stdout",
     "output_type": "stream",
     "text": [
      "87 is Greater\n"
     ]
    }
   ],
   "source": [
    "#7. Build a program that determines the largest of three given numbers.\n",
    "#input from user a,b,c \n",
    "a = int(input(\"enter a first Number:\"))\n",
    "b = int(input(\"Enter second number:\"))\n",
    "c = int(input(\"Enter Third number:\"))\n",
    "# if a is greater then b then check a is greater c is true , then print(a)\n",
    "if(a>b):\n",
    "    if(a>c):\n",
    "        print(a,\"is Greater\")\n",
    "    else: #else print(c)\n",
    "        print(c,\"is Greater\")\n",
    "else: #else \n",
    "    if(b>c): #check b is greater c is true , then print(b)\n",
    "        print(b,\"is Greater\")\n",
    "    else: #else print(c)\n",
    "        print(c,\"is Greater\")"
   ]
  },
  {
   "cell_type": "code",
   "execution_count": 28,
   "id": "59be3bd4-7178-4ddd-af87-b1c662ad6b25",
   "metadata": {},
   "outputs": [
    {
     "name": "stdin",
     "output_type": "stream",
     "text": [
      "Enter your character : i\n"
     ]
    },
    {
     "name": "stdout",
     "output_type": "stream",
     "text": [
      "i is a vowel\n"
     ]
    }
   ],
   "source": [
    "# 8. Develop a program that checks whether a character is a vowel or a consonant.\n",
    "\n",
    "vowel = \"aeiouAEIOU\"\n",
    "\n",
    "character = input(\"Enter your character :\")\n",
    "if(character in vowel):\n",
    "    print(character,\"is a vowel\")\n",
    "else:\n",
    "    print(character,\"is a Consonant\")\n"
   ]
  },
  {
   "cell_type": "code",
   "execution_count": 33,
   "id": "b3dd3a40-2455-4fe3-939b-4c38f3edeb08",
   "metadata": {},
   "outputs": [
    {
     "name": "stdin",
     "output_type": "stream",
     "text": [
      "Enter your price (if your want to exit type '0') 45\n",
      "Enter your price (if your want to exit type '0') 87\n",
      "Enter your price (if your want to exit type '0') 45\n",
      "Enter your price (if your want to exit type '0') 98\n",
      "Enter your price (if your want to exit type '0') 78\n",
      "Enter your price (if your want to exit type '0') 0\n"
     ]
    },
    {
     "name": "stdout",
     "output_type": "stream",
     "text": [
      "original price is rs.353 Your dicount is rs.0 and your total is after discounts: is rs.353\n"
     ]
    }
   ],
   "source": [
    "#9. Create a program to calculate the total cost of a shopping cart based on discounts.\n",
    "##Initialize an empty list\n",
    "l1 = []\n",
    "##initialize Discount variable by 0\n",
    "discont = 0\n",
    "#now we use this infinite loop for take input from user\n",
    "while(True):\n",
    "    # temp variable is use to take input from user\n",
    "    temp = int(input(\"Enter your price (if your want to exit type '0')\"))\n",
    "    #this condition is use to break this infinite loop if user type 0 then you break the loop\n",
    "    if(temp==0):\n",
    "        break\n",
    "    l1.append(temp) ##this line is use to append this temp value to this li list\n",
    "## this line is used to sum of all element of the list\n",
    "sum_of_price = sum(l1)\n",
    "\n",
    "##this conditions is used to check customer total price ,if total price is less tham 500 than no discount will be applied  \n",
    "if(sum_of_price<500):\n",
    "    discont = 0\n",
    "##if total price is greater tham 500 than 5% discount will be applied  \n",
    "elif(sum_of_price>500):\n",
    "    discont = sum_of_price * 0.05\n",
    "##if total price is greater tham 1000 than 10% discount will be applied\n",
    "elif(sum_of_price>1000):\n",
    "    discont =  sum_of_price * 0.1\n",
    "##if total price is greater tham 2000 than 20% discount will be applied\n",
    "else:\n",
    "    discont = sum_of_price * 0.2\n",
    "##now i caculate total ammount of the customer which they have to pay his original price - discount   \n",
    "total = sum_of_price - discont\n",
    "print(f\"original price is rs.{sum_of_price} Your dicount is rs.{discont} and your total is after discounts: is rs.{total}\")\n",
    "    \n",
    "    "
   ]
  },
  {
   "cell_type": "code",
   "execution_count": 36,
   "id": "8cdf567a-844e-439a-82a9-3c805079804a",
   "metadata": {},
   "outputs": [
    {
     "name": "stdin",
     "output_type": "stream",
     "text": [
      "Enter your number: 6576\n"
     ]
    },
    {
     "name": "stdout",
     "output_type": "stream",
     "text": [
      "This Number is 6576 is Even\n"
     ]
    }
   ],
   "source": [
    "#10. Write a program that checks if a given number is even or odd.\n",
    "#take input from user \n",
    "n = int(input(\"Enter your number:\"))\n",
    "# if n divided by 2 and the remainder will be 0 then we can called this number is even\n",
    "if(n%2==0):\n",
    "    print(f\"This Number is {n} is Even\")\n",
    "# else this number is odd number\n",
    "else:\n",
    "    print(f\"This Number is {n} is Odd\")"
   ]
  },
  {
   "cell_type": "markdown",
   "id": "79be67e6-b365-4014-95f9-89f55bff074b",
   "metadata": {},
   "source": [
    "Intermediate Level:"
   ]
  },
  {
   "cell_type": "code",
   "execution_count": 38,
   "id": "8d905158-6d71-4142-bf77-53e12b441ea1",
   "metadata": {},
   "outputs": [
    {
     "name": "stdin",
     "output_type": "stream",
     "text": [
      "Enter your 1st Number: 5\n",
      "Enter your 2nd Number: 6\n",
      "Enter your 3rd Number: 1\n"
     ]
    },
    {
     "name": "stdout",
     "output_type": "stream",
     "text": [
      "Your Roots are-0.6,-0.6\n"
     ]
    }
   ],
   "source": [
    "#11. Write a program that calculates the roots of a quadratic equation .\n",
    "#Take three input from user\n",
    "a = int(input(\"Enter your 1st Number:\"))\n",
    "b = int(input(\"Enter your 2nd Number:\"))\n",
    "c = int(input(\"Enter your 3rd Number:\"))\n",
    "\n",
    "#now in this line calcuate D\n",
    "D = (b**2)-(4*a*c)\n",
    "# if D is less Than 0 so it returns Imaginary roots\n",
    "if(D<0):\n",
    "    print(\"It return Imaginary numbers\")\n",
    "# if D is greater Than 0 so it return two roots\n",
    "elif(D>0):\n",
    "    r1=r2=-b/(2*a)\n",
    "    print(f\"Your Roots are{r1},{r2}\")\n",
    "# if D is equal To 0 so it return two roots(r1 and r2)\n",
    "else:\n",
    "    r1 = (-b+(D**0.5))/(2*a)\n",
    "    r2 = (-b-(D**0.5))/(2*a)\n",
    "    print(f\"Your Roots are{r1},{r2}\")\n",
    "    "
   ]
  },
  {
   "cell_type": "code",
   "execution_count": 39,
   "id": "68dc6521-c7ec-4424-9311-3d86f2ff8992",
   "metadata": {},
   "outputs": [
    {
     "name": "stdin",
     "output_type": "stream",
     "text": [
      "Enter your number : 6\n"
     ]
    },
    {
     "name": "stdout",
     "output_type": "stream",
     "text": [
      "Saturday\n"
     ]
    }
   ],
   "source": [
    "# Create a program that determines the day of the week based on the day number (1-7).\n",
    "n = int(input(\"Enter your number :\"))\n",
    "if(n==1):\n",
    "    print(\"monday\")\n",
    "elif(n==2):\n",
    "    print(\"Tuesday\")\n",
    "elif(n==3):\n",
    "    print(\"Wddnessday\")\n",
    "elif(n==4):\n",
    "    print(\"Thusday\")\n",
    "elif(n==5):\n",
    "    print(\"Friday\")\n",
    "elif(n==6):\n",
    "    print(\"Saturday\")\n",
    "elif(n==7):\n",
    "    print(\"Sunday\")\n",
    "else:\n",
    "    print(\"Please Enter a Valid Input\")"
   ]
  },
  {
   "cell_type": "code",
   "execution_count": 48,
   "id": "70c3ab9f-f34b-4abe-add9-8d70b9e80706",
   "metadata": {},
   "outputs": [
    {
     "name": "stdin",
     "output_type": "stream",
     "text": [
      "Enter Your number: 4\n"
     ]
    },
    {
     "name": "stdout",
     "output_type": "stream",
     "text": [
      "your factorial of 4 is 24\n"
     ]
    }
   ],
   "source": [
    "# 13. Develop a program that calculates the factorial of a given number using recursion.\n",
    "def fact(n):\n",
    "    if(n==0 or n==1): #if 0 or 1 then return 1\n",
    "        return 1\n",
    "    else: #els return n*fact(n-1) // this fact(n-1) it is recusively call it self\n",
    "        return n*fact(n-1)\n",
    "\n",
    "n = int(input(\"Enter Your number:\")) ##take input from the user \n",
    "print(f\"your factorial of {n} is {fact(n)}\"); #this line is used to display factorial of a number\n",
    "\n"
   ]
  },
  {
   "cell_type": "code",
   "execution_count": 2,
   "id": "93290769-69c1-4cf9-b22c-9792803b14d6",
   "metadata": {},
   "outputs": [
    {
     "name": "stdin",
     "output_type": "stream",
     "text": [
      "Enter your number: 65 87 43\n"
     ]
    },
    {
     "name": "stdout",
     "output_type": "stream",
     "text": [
      "87 is greater\n"
     ]
    }
   ],
   "source": [
    "#14. Write a program to find the largest among three numbers without using the `max()` function.\n",
    "##this function is use rerurn maximum number\n",
    "def maxi(a,b,c): ##take three number as input()\n",
    "    if(a>b and a>c): ##if a is greater then b and this a is also greater then c (this condition is true then return a as a greater element)\n",
    "        return a\n",
    "    elif(b>a and b>c):  ##if b is greater then a and this b is also greater then c (this condition is true then return b as a greater element)\n",
    "        return b\n",
    "    else: ##else return c is greater \n",
    "        return c\n",
    "# take multiple inputs from user\n",
    "a,b,c = map(int,input(\"Enter your number:\").split(\" \"))\n",
    "print(f\"{maxi(a,b,c)} is greater\")  #call maxi function for check greater element from three number  "
   ]
  },
  {
   "cell_type": "code",
   "execution_count": null,
   "id": "63b52f5e-2f04-4c73-bd91-66874e927c0d",
   "metadata": {},
   "outputs": [
    {
     "name": "stdout",
     "output_type": "stream",
     "text": [
      "\n",
      "WELCOME THE ABC ATM\n"
     ]
    },
    {
     "name": "stdin",
     "output_type": "stream",
     "text": [
      "Pleas Enter Your 4 Digit pin: 1235\n"
     ]
    },
    {
     "name": "stdout",
     "output_type": "stream",
     "text": [
      "Incorect Pin . Please Try again\n",
      "\n",
      "WELCOME THE ABC ATM\n"
     ]
    },
    {
     "name": "stdin",
     "output_type": "stream",
     "text": [
      "Pleas Enter Your 4 Digit pin: 1234\n"
     ]
    },
    {
     "name": "stdout",
     "output_type": "stream",
     "text": [
      "\n",
      "ABC ATM Menu:\n",
      "1. check Balance:\n",
      "2. WithDraw money:\n",
      "3. Deposite Money:\n",
      "4. View Transaction History:\n",
      "5. Exit:\n"
     ]
    },
    {
     "name": "stdin",
     "output_type": "stream",
     "text": [
      "Enter Your Choce (1/2/3/4/5): 5\n"
     ]
    },
    {
     "name": "stdout",
     "output_type": "stream",
     "text": [
      "Thank you for using the ATM. Goodbye!\n",
      "\n",
      "ABC ATM Menu:\n",
      "1. check Balance:\n",
      "2. WithDraw money:\n",
      "3. Deposite Money:\n",
      "4. View Transaction History:\n",
      "5. Exit:\n"
     ]
    }
   ],
   "source": [
    "# Create a program that simulates a basic ATM transaction menu.\n",
    "balance = 2022\n",
    "PIN = 1234\n",
    "trasaction_history =[]\n",
    "def display_menu():\n",
    "    print(\"\\nABC ATM Menu:\")\n",
    "    print(\"1. check Balance:\")\n",
    "    print(\"2. WithDraw money:\")\n",
    "    print(\"3. Deposite Money:\")\n",
    "    print(\"4. View Transaction History:\")\n",
    "    print(\"5. Exit:\")\n",
    "#chack Balance function\n",
    "def check_balance():\n",
    "    global balance\n",
    "    print(\"Your balance is \",balance)\n",
    "    \n",
    "# WithDraw money\n",
    "def withdraw():\n",
    "    global balance\n",
    "    print(\"Your total ammount is\",balance)\n",
    "    w = int(input(\"Enter ammount for withdraw: \"))\n",
    "    if(w<balance):\n",
    "        balance-= w\n",
    "        trasaction_history.append(f\"withdraw of {w}\")\n",
    "        print(f\"Your remaining Balance is {balance}\")\n",
    "    else:\n",
    "        print(\"Insuficient Balance\")\n",
    "\n",
    "#diposite money\n",
    "def diposite():\n",
    "    global balance\n",
    "    print(\"Your total ammount is\",balance)\n",
    "    d = int(input(\"Enter ammount for withdraw: \"))\n",
    "    balance+= d\n",
    "    trasaction_history.append(f\"Deposite of {d}\")\n",
    "    print(f\"Your remaining Balance is {balance}\")\n",
    "#view Transaction\n",
    "def view_trasaction():\n",
    "    print(\"\\nTrasaction History\")\n",
    "    for trans in trasaction_history:\n",
    "        print(trans)\n",
    "    \n",
    "#main program\n",
    "while(True):\n",
    "    print(\"\\nWELCOME THE ABC ATM\")\n",
    "    enter_pin = int(input(\"Pleas Enter Your 4 Digit pin:\"))\n",
    "    \n",
    "    if(enter_pin==PIN):\n",
    "        while(True):\n",
    "            display_menu()\n",
    "            choice = int(input(\"Enter Your Choce (1/2/3/4/5):\"))\n",
    "            if(choice==1):\n",
    "                check_balance()\n",
    "            elif(choice==2):\n",
    "                withdraw()\n",
    "            elif(choice==3):\n",
    "                diposite()\n",
    "            elif(choice==4):\n",
    "                view_trasaction()\n",
    "            elif(choice==5):\n",
    "                print(\"Thank you for using the ATM. Goodbye!\")\n",
    "                exit()\n",
    "            else:\n",
    "                print(\"Invalid Choice. please enter valid input.\")\n",
    "    else:\n",
    "        print(\"Incorect Pin . Please Try again\")"
   ]
  },
  {
   "cell_type": "code",
   "execution_count": 2,
   "id": "06418e85-113a-4747-8852-716979fc2bb9",
   "metadata": {},
   "outputs": [
    {
     "name": "stdin",
     "output_type": "stream",
     "text": [
      "Enter your string for further check: mot\n"
     ]
    },
    {
     "name": "stdout",
     "output_type": "stream",
     "text": [
      "mot is not a palindrom\n"
     ]
    }
   ],
   "source": [
    "# 16. Build a program that checks if a given string is a palindrome or not.\n",
    "#take input from user\n",
    "s = input(\"Enter your string for further check:\")\n",
    "#reverse this string \n",
    "rev = s[::-1]\n",
    "# if this given string and rev of this string is equal then this is called palindrom\n",
    "if(s==rev):\n",
    "    print(f\"{s} is Palindrom\")\n",
    "#else this is not a palindrom\n",
    "else:\n",
    "    print(f\"{s} is not a palindrom\")\n",
    "\n"
   ]
  },
  {
   "cell_type": "code",
   "execution_count": 8,
   "id": "72adf9cf-a8c9-4e2b-ac9f-94e5e2721d49",
   "metadata": {},
   "outputs": [
    {
     "data": {
      "text/plain": [
       "25.444444444444443"
      ]
     },
     "execution_count": 8,
     "metadata": {},
     "output_type": "execute_result"
    }
   ],
   "source": [
    "# 17. Write a program that calculates the average of a list of numbers, excluding the smallest and largest values.\n",
    "#take a sample list \n",
    "l  = [1,2,3,4,5,6,67,78,8,90,56]\n",
    "# take max element of the list using max function\n",
    "maxi = max(l)\n",
    "# take min element of the list using min function\n",
    "mini = min(l)\n",
    "# remore this max and min element from the list because this says exclude means we could not take this max and min element\n",
    "l.remove(maxi)\n",
    "l.remove(mini)\n",
    "#now add all element of and divide this sum by count of element of this list then now our average is come in front of us\n",
    "avg = (sum(l))/len(l)\n",
    "avg"
   ]
  },
  {
   "cell_type": "code",
   "execution_count": 11,
   "id": "79808912-0ad5-466a-bb15-2a44999e3dde",
   "metadata": {},
   "outputs": [
    {
     "name": "stdin",
     "output_type": "stream",
     "text": [
      "Enter Your celcious: 76.98\n"
     ]
    },
    {
     "name": "stdout",
     "output_type": "stream",
     "text": [
      "Your fahrenheit is 170.56400000000002\n"
     ]
    }
   ],
   "source": [
    "# 18. Develop a program that converts a given temperature from Celsius to Fahrenheit.\n",
    "# take input from user \n",
    "c = float(input(\"Enter Your celcious:\"))\n",
    "#calculate fahrenheit using below formmula\n",
    "f = c*(9/5)+32\n",
    "# now our fahrenheit will be calculate now its time to display\n",
    "print(f\"Your fahrenheit is {f}\")"
   ]
  },
  {
   "cell_type": "code",
   "execution_count": 21,
   "id": "c387004e-c4b2-46d0-8be8-a1f09beeecd8",
   "metadata": {},
   "outputs": [
    {
     "name": "stdin",
     "output_type": "stream",
     "text": [
      "Enter your operation which you want(+,-,x,/,(. if you want to exit)): =\n"
     ]
    },
    {
     "name": "stdout",
     "output_type": "stream",
     "text": [
      "Please Enter Valid Input :\n"
     ]
    },
    {
     "name": "stdin",
     "output_type": "stream",
     "text": [
      "Enter your operation which you want(+,-,x,/,(. if you want to exit)): +\n",
      "Enter two number and separate by space: 65 98\n"
     ]
    },
    {
     "name": "stdout",
     "output_type": "stream",
     "text": [
      "your answer is 163\n"
     ]
    },
    {
     "name": "stdin",
     "output_type": "stream",
     "text": [
      "Enter your operation which you want(+,-,x,/,(. if you want to exit)): .\n"
     ]
    },
    {
     "name": "stdout",
     "output_type": "stream",
     "text": [
      "Thank you to using this Calculator😊\n"
     ]
    }
   ],
   "source": [
    "# 19. Create a program that simulates a basic calculator for addition, subtraction, multiplication, and division.\n",
    "#this loop is always true \n",
    "while(1):\n",
    "    #this k takes input from user (operation)\n",
    "    k = input(\"Enter your operation which you want(+,-,x,/,(. if you want to exit)):\")\n",
    "    #if user wants to exit from this loop then they send '.' as an input\n",
    "    #if this condition is true then there are displa message and break this loop\n",
    "    if(k==\".\"):\n",
    "        print(\"Thank you to using this Calculator😊\")\n",
    "        break\n",
    "    # this list take list of operation which is perform by our calculator \n",
    "    l = ['+','-','*','/']\n",
    "    #if input which is taken bby user is exist in l then only further operation will execute else you have a message like invalid input\n",
    "    if k in l:\n",
    "        #if this condition is True then take operand from the user\n",
    "        n1,n2 = map(int,input(\"Enter two number and separate by space:\").split(\" \"))\n",
    "        if(k==\"+\"): ##if user give operation + then addion will perform\n",
    "            print(f\"your answer is {n1+n2}\")\n",
    "        elif(k==\"-\"): ##if user give operation - then subtraction will perform\n",
    "            print(f\"your answer is {n1-n2}\")\n",
    "        elif(k==\"x\"): ##if user give operation x then multiplication will perform\n",
    "            print(f\"your answer is {n1*n2}\")\n",
    "        elif(k==\"/\"): ##if user give operation / then Division  will perform\n",
    "            print(f\"your answer is {n1/n2}\")\n",
    "    else:\n",
    "        print(\"Please Enter Valid Input\")\n",
    "    \n",
    "        \n",
    "        \n",
    "    "
   ]
  },
  {
   "cell_type": "code",
   "execution_count": 22,
   "id": "7e516823-3b45-466a-8d29-a5c4136bbf8f",
   "metadata": {},
   "outputs": [
    {
     "name": "stdout",
     "output_type": "stream",
     "text": [
      "Roots: [3.0, 1.0, 1.9999999999999998]\n"
     ]
    }
   ],
   "source": [
    "# 20. Write a program that determines the roots of a cubic equation using the Cardano formula.\n",
    "import math\n",
    "\n",
    "def cubic_roots(a, b, c, d):\n",
    "    # Calculate coefficients for the depressed cubic equation\n",
    "    p = (3 * a * c - b**2) / (3 * a**2)\n",
    "    q = (2 * b**3 - 9 * a * b * c + 27 * a**2 * d) / (27 * a**3)\n",
    "\n",
    "    # Calculate discriminant of the depressed cubic equation\n",
    "    discriminant = (q / 2)**2 + (p / 3)**3\n",
    "\n",
    "    if discriminant > 0:\n",
    "        # One real root and two complex roots\n",
    "        u = (-q / 2 + math.sqrt(discriminant))**(1/3)\n",
    "        v = (-q / 2 - math.sqrt(discriminant))**(1/3)\n",
    "        real_root = u + v - b / (3 * a)\n",
    "        complex_root1 = -(u + v) / 2 - b / (3 * a) + (u - v) * math.sqrt(3) / 2j\n",
    "        complex_root2 = -(u + v) / 2 - b / (3 * a) - (u - v) * math.sqrt(3) / 2j\n",
    "        return [real_root, complex_root1, complex_root2]\n",
    "\n",
    "    elif discriminant == 0:\n",
    "        # All three roots are real and at least two of them are equal\n",
    "        if q >= 0:\n",
    "            root = (-q / 2)**(1/3)\n",
    "        else:\n",
    "            root = -((-q / 2)**(1/3))\n",
    "        real_root1 = 2 * root - b / (3 * a)\n",
    "        real_root2 = -root - b / (3 * a)\n",
    "        return [real_root1, real_root2, real_root2]\n",
    "\n",
    "    else:\n",
    "        # Three real roots\n",
    "        phi = math.acos(-q / 2 * math.sqrt(-27 / p**3))\n",
    "        root1 = 2 * math.sqrt(-p / 3) * math.cos(phi / 3) - b / (3 * a)\n",
    "        root2 = 2 * math.sqrt(-p / 3) * math.cos((phi + 2 * math.pi) / 3) - b / (3 * a)\n",
    "        root3 = 2 * math.sqrt(-p / 3) * math.cos((phi + 4 * math.pi) / 3) - b / (3 * a)\n",
    "        return [root1, root2, root3]\n",
    "\n",
    "# Example usage\n",
    "a = 1\n",
    "b = -6\n",
    "c = 11\n",
    "d = -6\n",
    "roots = cubic_roots(a, b, c, d)\n",
    "print(\"Roots:\", roots)\n"
   ]
  },
  {
   "cell_type": "markdown",
   "id": "ff09144d-a62f-42a0-97a3-eb3709452f76",
   "metadata": {},
   "source": [
    "Advanced Level:"
   ]
  },
  {
   "cell_type": "code",
   "execution_count": 1,
   "id": "d34a5e7a-b1f8-466e-bea2-d5c6cf649198",
   "metadata": {},
   "outputs": [
    {
     "name": "stdin",
     "output_type": "stream",
     "text": [
      "Enter Your Income:  547\n"
     ]
    },
    {
     "name": "stdout",
     "output_type": "stream",
     "text": [
      "Your income tax is : Rs.54.70\n"
     ]
    }
   ],
   "source": [
    "# 21. Create a program that calculates the income tax based on the user's income and tax brackets.\n",
    "def calulated_income_tax(income):\n",
    "       # Define the income thresholds and tax rates\n",
    "    thresholds = [0,10000,20000,40000,80000]\n",
    "    tax_rate = [0.10,0.12,0.22,0.24,0.32]\n",
    "    \n",
    "        # Find the tax bracket for the given income\n",
    "    tax_braket = 0\n",
    "    while(tax_braket<len(thresholds)-1 and income> thresholds[tax_braket + 1]):\n",
    "        tax_braket+=1\n",
    "    \n",
    "     # Calculate the income tax\n",
    "    tax = 0\n",
    "    remaining_income = income\n",
    "    for i in range(tax_braket+1):\n",
    "        if i == tax_braket:\n",
    "            tax +=remaining_income* tax_rate[i]\n",
    "        else:\n",
    "            tax +=(thresholds[i+1]-thresholds[i]) * tax_rate[i]\n",
    "            remaining_income-= (thresholds[i+1]-thresholds[i])\n",
    "    return tax\n",
    "\n",
    "income = float(input(\"Enter Your Income: \"))\n",
    "\n",
    "income_tax = calulated_income_tax(income)\n",
    "print(f\"Your income tax is : Rs.{income_tax:.2f}\")"
   ]
  },
  {
   "cell_type": "code",
   "execution_count": 34,
   "id": "dcd5f5e1-20f2-4683-89e3-9b276253faed",
   "metadata": {},
   "outputs": [
    {
     "name": "stdin",
     "output_type": "stream",
     "text": [
      "Enter your value('rock : r','sessior : s','paper : p') Or if you want to exit press any key of the keybord and press enter: 6\n"
     ]
    }
   ],
   "source": [
    "# 22. Write a program that simulates a rock-paper-scissors game against the computer.\n",
    "##import random because opponent will be computer and its bark also will be computer generted\n",
    "import random\n",
    "def oponent_choice(): ##this function will be return random value between ('r','s','p')\n",
    "    l1 = ['r','s','p'] \n",
    "    return random.choice(l1)\n",
    "def r_s_p(u,o1): ##this function is used for actual game \n",
    "    if((u=='r' and o1=='s') or (u=='s' and o1=='r')): ##if i press r and opponent press s or viceversa then only you enter in this part\n",
    "        if(u=='r' and o1=='s'): ##if i press r and opponent press s then i win\n",
    "            print(\"rock crushes scissors and you are win\")\n",
    "        else: ##else opponent win\n",
    "            print(\"rock crushes scissors and oppponent is win\")\n",
    "    elif((u=='s' and o1=='p') or (u=='p' and o1=='s')):\n",
    "        if(u=='s' and o1=='p'): ##if i press s and opponent press p then i win\n",
    "            print(\"scissors cuts paper and you are win\")\n",
    "        else: ##else opponent win\n",
    "            print(\"scissors cuts paper and oppponent is win\")\n",
    "    elif((u=='p' and o1=='r') or (u=='r' and o1=='p')):\n",
    "        if(u=='p' and o1=='r'): ##if i press p and opponent press r then i win\n",
    "            print(\"paper covers rock and you are win\")\n",
    "        else:  ##else opponent win\n",
    "            print(\"paper covers rock and oppponent is win\")\n",
    "    else: ##else both gestures are same means (r and r,s and s,p and p)\n",
    "        print(\"you both are same gesture\")\n",
    "    \n",
    "    \n",
    "        \n",
    "while(1): #this loop is always or we can say it is a infinite loop\n",
    "    o1 = oponent_choice()\n",
    "    u = input(\"Enter your value('rock : r','sessior : s','paper : p') Or if you want to exit press any key of the keybord and press enter:\")\n",
    "    if((u=='r')or (u=='s')or(u=='p')):\n",
    "        r_s_p(u,o1)\n",
    "    else: ##if if condiotion is false then execute this else block and break from this loop\n",
    "        break\n",
    "                \n",
    "        \n",
    "            \n",
    "        \n",
    "    "
   ]
  },
  {
   "cell_type": "code",
   "execution_count": 2,
   "id": "72c03333-8567-404a-8c09-7e0a216c6a46",
   "metadata": {},
   "outputs": [
    {
     "name": "stdin",
     "output_type": "stream",
     "text": [
      "Enter length of the password 8\n",
      "Enter complexity level(0,1,2) 2\n"
     ]
    },
    {
     "name": "stdout",
     "output_type": "stream",
     "text": [
      "your password is 59758ssN\n"
     ]
    }
   ],
   "source": [
    "# 23. Develop a program that generates a random password based on user preferences (length, complexity).\n",
    "import random ##this library is used for random charcter generation\n",
    "import string ##this library is used for apply different operation on string\n",
    "\n",
    "#this function is used for genearate password take ((length,use_digit,use_character)) \n",
    "def password_generater(length,use_digit,use_character):\n",
    "    character = string.ascii_letters #this line is used to assign character as letters using string library\n",
    "    if(use_digit): #if this condition is true then charecter can take digits in password\n",
    "        character+= string.digits\n",
    "    elif(use_character): #if this condition is true then charecter can take special character in password\n",
    "        character+= string.punctuation\n",
    "    password = ''.join(random.choice(character) for _ in range(length)) ##this line is use to Generate final output\n",
    "    return password ##now Return password to main function\n",
    "    \n",
    "##take length from user \n",
    "length = int(input(\"Enter length of the password\"))\n",
    "##take complexity Level from user\n",
    "complexity = int(input(\"Enter complexity level(0,1,2)\"))\n",
    "# initual these two variable initially False these variabble is use to tell user wants number and special character in the password or not\n",
    "use_digit = False\n",
    "use_character = False\n",
    "# if user enter level 2 then use_digit=false and  use_character = True \n",
    "if(complexity==2):\n",
    "    use_digit = True\n",
    "    use_character = True\n",
    "# if user enter level 3 then use_digit=True and  use_character = True\n",
    "elif(complexity==3):\n",
    "    use_digit = True\n",
    "    use_character = True\n",
    "# if user enter level 1 then use_digit=false and  use_character = false\n",
    "else:\n",
    "    use_digit = False\n",
    "    use_character = False\n",
    "#if length of the password is less then 0 then display \"your password will be not generated\"\n",
    "if(length<=0):\n",
    "    print(\"your password will be not generated\")\n",
    "else: ##else call password Generater function\n",
    "    password = password_generater(length,use_digit,use_character)\n",
    "    print(f\"your password is {password}\")\n",
    "    \n",
    "    "
   ]
  },
  {
   "cell_type": "code",
   "execution_count": 5,
   "id": "c2028923-67f8-4624-9d92-023798bcda5e",
   "metadata": {},
   "outputs": [
    {
     "name": "stdout",
     "output_type": "stream",
     "text": [
      "Welcom to the Text Adventure Game !\n",
      "You find yourself in a dark forest. Which path will you take?\n",
      "(1, 'Go left'). ['Go left', 'Go right', 'Go straight']\n",
      "(2, 'Go right'). ['Go left', 'Go right', 'Go straight']\n",
      "(3, 'Go straight'). ['Go left', 'Go right', 'Go straight']\n"
     ]
    },
    {
     "name": "stdin",
     "output_type": "stream",
     "text": [
      "Enter the number of your choice: 1\n"
     ]
    },
    {
     "name": "stdout",
     "output_type": "stream",
     "text": [
      "You encounter a friendly squirrel. It leads you to safety.\n",
      "Game Over!\n"
     ]
    }
   ],
   "source": [
    "# 24. Create a program that implements a simple text-based adventure game with branching scenarios.\n",
    "import time\n",
    "def print_slow(text,delay=0.03):\n",
    "    for char in text:\n",
    "        print(char,end=\"\",flush=True)\n",
    "    print()\n",
    "def make_choice(question,options):\n",
    "    print_slow(question)\n",
    "    for i in enumerate(options,1):\n",
    "        print(f\"{i}. {options}\")\n",
    "    while(True):\n",
    "        choice = input(\"Enter the number of your choice:\")\n",
    "        if choice.isdigit():\n",
    "            choice = int(choice)\n",
    "            if 1<= choice <= len(options):\n",
    "                return choice\n",
    "        print(\"Invalid choice.please enter a valid number.\")\n",
    "print_slow(\"Welcom to the Text Adventure Game !\")\n",
    "choice = make_choice(\"You find yourself in a dark forest. Which path will you take?\", [\"Go left\", \"Go right\", \"Go straight\"])\n",
    "if choice == 1:\n",
    "    print_slow(\"You encounter a friendly squirrel. It leads you to safety.\")\n",
    "elif choice==2:\n",
    "    print_slow(\"You stumble upon a pack of wolves. They chase you away.\")\n",
    "else:\n",
    "    print_slow(\"You walk deeper into the forest and get lost.\")\n",
    "print_slow(\"Game Over!\")"
   ]
  },
  {
   "cell_type": "code",
   "execution_count": 9,
   "id": "638f344e-5982-42e4-8354-38695052b434",
   "metadata": {},
   "outputs": [
    {
     "name": "stdin",
     "output_type": "stream",
     "text": [
      "Enter your first coeficient: 0\n",
      "Enter your second coeficient: 87\n"
     ]
    },
    {
     "name": "stdout",
     "output_type": "stream",
     "text": [
      "No solution is occure:\n",
      "solution :None\n"
     ]
    }
   ],
   "source": [
    "# 25. Build a program that solves a linear equation for x, considering different cases.\n",
    "def solve(a,b):\n",
    "    if(a==0):\n",
    "        if(b==0):\n",
    "            print(\"Infinite solution is occure:\")\n",
    "        else:\n",
    "            print(\"No solution is occure:\")\n",
    "    else:\n",
    "        x = -b/a\n",
    "        return x\n",
    "\n",
    "\n",
    "\n",
    "# Input coefficients a and b from the user\n",
    "a = float(input(\"Enter your first coeficient:\"))\n",
    "b = float(input(\"Enter your second coeficient:\"))\n",
    "solution = solve(a,b)\n",
    "\n",
    "\n",
    "# Solve the linear equation\n",
    "print(f\"solution :{solution}\")\n"
   ]
  },
  {
   "cell_type": "code",
   "execution_count": 15,
   "id": "fbf35a87-17be-4034-9213-e66b88ca937a",
   "metadata": {},
   "outputs": [
    {
     "name": "stdout",
     "output_type": "stream",
     "text": [
      "welcome to Rahul quizers\n",
      "What is the capital of France?\n",
      "1.Paris\n",
      "2.London\n",
      "3.Berlin\n",
      "4.Madrid\n"
     ]
    },
    {
     "name": "stdin",
     "output_type": "stream",
     "text": [
      "Enter the number of your answer (1,2,3,4) : 1\n"
     ]
    },
    {
     "name": "stdout",
     "output_type": "stream",
     "text": [
      "corect!\n",
      "\n",
      "welcome to Rahul quizers\n",
      "Which planet is known as the Red Planet?\n",
      "1.Earth\n",
      "2.Mars\n",
      "3.Venus\n",
      "4.Jupiter\n"
     ]
    },
    {
     "name": "stdin",
     "output_type": "stream",
     "text": [
      "Enter the number of your answer (1,2,3,4) : 2\n"
     ]
    },
    {
     "name": "stdout",
     "output_type": "stream",
     "text": [
      "corect!\n",
      "\n",
      "welcome to Rahul quizers\n",
      "What is the largest mammal in the world?\n",
      "1.Giraffe\n",
      "2.Elephant\n",
      "3.Blue Whale\n",
      "4.Hippopotamus\n"
     ]
    },
    {
     "name": "stdin",
     "output_type": "stream",
     "text": [
      "Enter the number of your answer (1,2,3,4) : 3\n"
     ]
    },
    {
     "name": "stdout",
     "output_type": "stream",
     "text": [
      "corect!\n",
      "\n",
      "Your score is : 3\n"
     ]
    }
   ],
   "source": [
    "# 26. Write a program that simulates a basic quiz game with multiple-choice questions and scoring.\n",
    "##this is a list of dictionary  which take values in key and value pair\n",
    "questions = [\n",
    "    {\n",
    "        \"question\": \"What is the capital of France?\",\n",
    "        \"options\": [\"Paris\", \"London\", \"Berlin\", \"Madrid\"],\n",
    "        \"correct_answer\": 1  # Paris\n",
    "    },\n",
    "    {\n",
    "        \"question\": \"Which planet is known as the Red Planet?\",\n",
    "        \"options\": [\"Earth\", \"Mars\", \"Venus\", \"Jupiter\"],\n",
    "        \"correct_answer\": 2  # Mars\n",
    "    },\n",
    "    {\n",
    "        \"question\": \"What is the largest mammal in the world?\",\n",
    "        \"options\": [\"Giraffe\", \"Elephant\", \"Blue Whale\", \"Hippopotamus\"],\n",
    "        \"correct_answer\": 3  # Blue Whale\n",
    "    }\n",
    "]\n",
    "# Function to ask a question and check the answer\n",
    "def ask_question(question):\n",
    "    print(\"welcome to Rahul quizers\")\n",
    "    #this line is used for print questions\n",
    "    print(question[\"question\"])\n",
    "    # this loop is used to print options\n",
    "    for i,option in enumerate(question[\"options\"],1):\n",
    "        print(f\"{i}.{option}\")\n",
    "    # take ans from user\n",
    "    user_ans = int(input(\"Enter the number of your answer (1,2,3,4) :\"))\n",
    "    #if this answer is correct then return True else return False\n",
    "    if user_ans == question[\"correct_answer\"]:\n",
    "        print(\"corect!\\n\")\n",
    "        return True\n",
    "    else:\n",
    "        print(\"Incorrect!\\n\")\n",
    "        return False\n",
    "\n",
    "## main()\n",
    "score = 0\n",
    "# take a quetion from qustions list\n",
    "for question in questions:\n",
    "    if(ask_question(question)): ##if previous function return True then score+=1\n",
    "        score+=1\n",
    "# print your score\n",
    "print(\"Your score is :\",score)"
   ]
  },
  {
   "cell_type": "code",
   "execution_count": 34,
   "id": "d9d0f360-fe55-4d2a-bc43-f5aa62445c3d",
   "metadata": {},
   "outputs": [
    {
     "name": "stdin",
     "output_type": "stream",
     "text": [
      "Enter your year 2007\n"
     ]
    },
    {
     "name": "stdout",
     "output_type": "stream",
     "text": [
      "2007 is not prime\n"
     ]
    }
   ],
   "source": [
    "def is_prime(year):\n",
    "    if(year<=1):\n",
    "        return False\n",
    "    elif(year<3):\n",
    "        return True\n",
    "    else:\n",
    "        for i in range(2,int(year**0.5)+1):\n",
    "            if year % i==0 :\n",
    "                return False\n",
    "        return True\n",
    "    \n",
    "year = int(input(\"Enter your year\"))\n",
    "if is_prime(year):\n",
    "    print(f\"{year} is prime\")\n",
    "else:\n",
    "    print(f\"{year} is not prime\")\n",
    "            "
   ]
  },
  {
   "cell_type": "code",
   "execution_count": 8,
   "id": "f2feb128-fc1b-4f6c-a604-63742ce06f91",
   "metadata": {},
   "outputs": [
    {
     "name": "stdin",
     "output_type": "stream",
     "text": [
      " 78 45 23\n"
     ]
    },
    {
     "name": "stdout",
     "output_type": "stream",
     "text": [
      "23,45,78\n"
     ]
    }
   ],
   "source": [
    "#take three input\n",
    "a,b,c = map(int,input().split(\" \"))\n",
    "# assign with zero these variable (min,max,mid)\n",
    "min_ele = 0\n",
    "mid_ele = 0\n",
    "max_ele = 0\n",
    "#if a<b and a<c then min_ele = a\n",
    "if a<b and a<c:\n",
    "    min_ele = a\n",
    "    if(b<=c): #if b<=c then mid_ele = b and max_ele = c\n",
    "        mid_ele = b\n",
    "        max_ele = c\n",
    "    else: #else mid_ele = c and max_ele = b\n",
    "        mid_ele = c\n",
    "        max_ele = b\n",
    "elif(b<a and b<c): \n",
    "    min_ele = b\n",
    "    if a<=c: #if a<=c then mid_ele = a and max_ele = c\n",
    "        mid_ele = a\n",
    "        max_ele = c\n",
    "    else: #else mid_ele = c and max_ele = a\n",
    "        mid_ele = c\n",
    "        max_ele = a\n",
    "else:\n",
    "    min_ele = c\n",
    "    if(b<a):  #if b<a then mid_ele = b and max_ele = a\n",
    "        mid_ele = b\n",
    "        max_ele = a\n",
    "    else:  #else mid_ele = a and max_ele = b\n",
    "        mid_ele = a\n",
    "        max_ele = b\n",
    "print(f\"{min_ele},{mid_ele},{max_ele}\") ##display sorted values "
   ]
  },
  {
   "cell_type": "code",
   "execution_count": null,
   "id": "6b2fd02d-269c-4212-bfc3-78d13645b6e7",
   "metadata": {},
   "outputs": [],
   "source": [
    "# Build a program that determines the roots of a quartic equation using numerical methods."
   ]
  },
  {
   "cell_type": "code",
   "execution_count": 1,
   "id": "5cbf2716-a5ea-4a9e-96bc-e01bc9ab2267",
   "metadata": {},
   "outputs": [
    {
     "name": "stdin",
     "output_type": "stream",
     "text": [
      "Enter your weight in kg : 44\n",
      "Enter your height in m: 45.56\n"
     ]
    },
    {
     "name": "stdout",
     "output_type": "stream",
     "text": [
      "Your BMI is 0.00046526622849298645 and health recomendationacording to your BMI is 'Underweight: You may need to gain some weight. Consult a healthcare professional.'\n"
     ]
    }
   ],
   "source": [
    "# Write a program that calculates the BMI (Body Mass Index) and provides health recommendations based\n",
    "# on the user's input.\n",
    "def BMI(weight_kg,height_m):\n",
    "    return (weight_kg/(height_m**3)) ##this line is return BMI with use of BMI calculation\n",
    "def health_recomendation(bmi): \n",
    "    if(bmi<18.5): #if bmi is less then 18.4 then this is under weight\n",
    "        return \"Underweight: You may need to gain some weight. Consult a healthcare professional.\"\n",
    "    elif(18.5<= bmi and bmi < 24.9): #if bmi is less then 24.9 and greater than 18.4 then this person is normal weight\n",
    "        return \"Normal weight: Your weight is within the healthy range.\"\n",
    "    elif(24.4<= bmi and bmi < 29.9): #if bmi is less then 29.9 and greater than 24.4 then this person is over weight\n",
    "        return \"Overweight: Consider losing some weight for better health. Consult a healthcare professional.\"\n",
    "    else: ##\n",
    "        return \"Obese: It's important to manage your weight for better health. Consult a healthcare professional.\"\n",
    "\n",
    "##main\n",
    "##take input from user his weight in kg and his height in meter\n",
    "weight_kg = float(input(\"Enter your weight in kg :\"))\n",
    "height_m = float(input(\"Enter your height in m:\"))\n",
    "\n",
    "##this line is used to call BMI function to calculate BMI \n",
    "bmi = BMI(weight_kg,height_m)\n",
    "##this line is used to call health_recomendation function to recomend some remedies according to BMI \n",
    "health_recomendation = health_recomendation(bmi)\n",
    "print(f\"Your BMI is {bmi} and health recomendation acording to your BMI is '{health_recomendation}'\")"
   ]
  },
  {
   "cell_type": "code",
   "execution_count": null,
   "id": "40f90255-e489-4244-b204-6d6fcc0cc2cf",
   "metadata": {},
   "outputs": [],
   "source": []
  },
  {
   "cell_type": "code",
   "execution_count": 5,
   "id": "3276bfa8-0c2a-46d8-9514-b230eb8a954c",
   "metadata": {},
   "outputs": [
    {
     "name": "stdin",
     "output_type": "stream",
     "text": [
      "Enter your password kgkb\n"
     ]
    },
    {
     "name": "stdout",
     "output_type": "stream",
     "text": [
      "It is not Validated\n"
     ]
    }
   ],
   "source": [
    "#31. Create a program that validates a password based on complexity rules (length, characters, etc.).\n",
    "def isvalidate(p): ##this function is used to check this password is pass all parameter or not\n",
    "    if len(p)<8: #if len of the password is less then then return false\n",
    "        return False\n",
    "    #assign all these variable is false , these variables are (has_upper,has_lower,has_digit)\n",
    "    ##these variable is used to every character of the password is fullfill the given requirement or not \n",
    "    has_upper = False \n",
    "    has_lower = False\n",
    "    has_digit = False\n",
    "    for i in p:\n",
    "        if i.isupper(): ##if charater is upper case then has_upper = true\n",
    "            has_upper = True\n",
    "        elif i.islower(): ##if charater is lower case then has_lower = true\n",
    "            has_lower = True\n",
    "        elif i.isdigit(): ##if charater is digit   then has_digit = true\n",
    "            has_digit = True\n",
    "    return has_digit and has_lower and has_upper ##if all the condition is true then return true\n",
    "\n",
    "\n",
    "## take password as an input from user\n",
    "password = input(\"Enter your password\")\n",
    "# if isvalidate function is return true then print \"it is validate\"\n",
    "if(isvalidate(password)):\n",
    "    print(\"It is Validated\")\n",
    "else: ##else print \"It is not validate\"\n",
    "    print(\"It is not Validated\")"
   ]
  },
  {
   "cell_type": "code",
   "execution_count": 2,
   "id": "e7688d6d-35c3-43ad-b76a-03f4416993bc",
   "metadata": {},
   "outputs": [
    {
     "name": "stdin",
     "output_type": "stream",
     "text": [
      "Enter your row size : 3\n",
      "Enter your column size : 3\n"
     ]
    },
    {
     "name": "stdout",
     "output_type": "stream",
     "text": [
      "Enter your matrix 1\n"
     ]
    },
    {
     "name": "stdin",
     "output_type": "stream",
     "text": [
      "Enter your element at row 1 and column 1 : 2\n",
      "Enter your element at row 1 and column 2 : 3\n",
      "Enter your element at row 1 and column 3 : 5\n",
      "Enter your element at row 2 and column 1 : 0\n",
      "Enter your element at row 2 and column 2 : 4\n",
      "Enter your element at row 2 and column 3 : 6\n",
      "Enter your element at row 3 and column 1 : 3\n",
      "Enter your element at row 3 and column 2 : 4\n",
      "Enter your element at row 3 and column 3 : 8\n"
     ]
    },
    {
     "name": "stdout",
     "output_type": "stream",
     "text": [
      "Enter your matrix 2\n"
     ]
    },
    {
     "name": "stdin",
     "output_type": "stream",
     "text": [
      "Enter your element at row 1 and column 1 : 34\n",
      "Enter your element at row 1 and column 2 : 45\n",
      "Enter your element at row 1 and column 3 : 56\n",
      "Enter your element at row 2 and column 1 : 54\n",
      "Enter your element at row 2 and column 2 : 23\n",
      "Enter your element at row 2 and column 3 : 45\n",
      "Enter your element at row 3 and column 1 : 87\n",
      "Enter your element at row 3 and column 2 : 12\n",
      "Enter your element at row 3 and column 3 : 2\n"
     ]
    },
    {
     "name": "stdout",
     "output_type": "stream",
     "text": [
      "Your matrix addition result\n",
      "36.0 48.0 61.0\n",
      "54.0 27.0 51.0\n",
      "90.0 16.0 10.0\n",
      "Your matrix addition result\n",
      "-32.0 -42.0 -51.0\n",
      "-54.0 -19.0 -39.0\n",
      "-84.0 -8.0 6.0\n"
     ]
    }
   ],
   "source": [
    "# 32. Develop a program that performs matrix addition and subtraction based on user input\n",
    "#this function is used to take input from user\n",
    "def input_matrix(row,col):\n",
    "    mat = []\n",
    "    for i in range(row):\n",
    "        row = []\n",
    "        for j in range(col):\n",
    "            ele = float(input(f\"Enter your element at row {i+1} and column {j+1} :\"))\n",
    "            row.append(ele)\n",
    "        mat.append(row)\n",
    "    return mat\n",
    "#this function is used add matrix \n",
    "def add_matrices(mat1,mat2):\n",
    "    if(len(mat1) != len(mat2) or len(mat1[0])!=len(mat2[0])): ##this is condition is used to check both matrix size is same or not \n",
    "                                                              #if  this condition is true then return none\n",
    "        return None\n",
    "    result = [] ##empty list for take result\n",
    "    for i in range(len(mat1)): ##this loop execute from 0 to len of the matrix1 \n",
    "        row=[]  ##this row is empty this is used to take row from the matrix\n",
    "        for j in range(len(mat1[0])):  ##this loop execute from 0 to len of the matrix2\n",
    "            row.append(mat1[i][j] + mat2[i][j]) ##add matrix and matrix2\n",
    "        result.append(row) #append of calculated row to the resultant matrix\n",
    "    return result ##now return result \n",
    "\n",
    "##this function is used to subtract two matrix and all operation are same but only subtraction is done and previous function calculate addition\n",
    "def sub_matrices(mat1,mat2):\n",
    "    if(len(mat1) != len(mat2) or len(mat1[0])!=len(mat2[0])):\n",
    "        return None\n",
    "    result = []\n",
    "    for i in range(len(mat1)):\n",
    "        row=[]\n",
    "        for j in range(len(mat1[0])):\n",
    "            row.append(mat1[i][j] - mat2[i][j])\n",
    "        result.append(row)\n",
    "    return result\n",
    "\n",
    "##this function is used to print or display a matrix\n",
    "def display(mat):\n",
    "    for row in mat:\n",
    "        print(\" \".join(map(str,row)))\n",
    "#take size of row and column \n",
    "row = int(input(\"Enter your row size :\"))\n",
    "col = int(input(\"Enter your column size :\"))\n",
    "\n",
    "##take matrix 1 using input_matrix function \n",
    "print(\"Enter your matrix 1\")\n",
    "mat1 = input_matrix(row,col)\n",
    "\n",
    "##take matrix 2 using input_matrix function\n",
    "print(\"Enter your matrix 2\")\n",
    "mat2 = input_matrix(row,col)\n",
    "##add and subtract matrix using add_matrix and sub_matrix\n",
    "add_matrix  = add_matrices(mat1,mat2)\n",
    "sub_matrix = sub_matrices(mat1,mat2)\n",
    "\n",
    "##if add matrix is true or posistive  then print matrix addition result using displat function\n",
    "if add_matrix:\n",
    "    print(\"Your matrix addition result\")\n",
    "    display(add_matrix)\n",
    "##else print addition is not possible\n",
    "else:\n",
    "    print(\"Matrix addition is not possible due to different dimensions.\")\n",
    "##if sub_matrix is true or posistive  then print matrix subtraction result using displat function\n",
    "if sub_matrix:\n",
    "    print(\"Your matrix addition result\")\n",
    "    display(sub_matrix)\n",
    "##else print subtraction is not possible  \n",
    "else:\n",
    "    print(\"Matrix subtraction is not possible due to different dimensions.\")\n",
    "\n",
    "    "
   ]
  },
  {
   "cell_type": "code",
   "execution_count": 4,
   "id": "15c7c75a-4095-47f4-9225-910e687b2bcf",
   "metadata": {},
   "outputs": [
    {
     "name": "stdin",
     "output_type": "stream",
     "text": [
      "Enter your first number: 8\n",
      "Enter your first number: 48\n"
     ]
    },
    {
     "name": "stdout",
     "output_type": "stream",
     "text": [
      "your GCD of 8 and 48 is 8\n"
     ]
    }
   ],
   "source": [
    "# 33. Write a program that calculates the greatest common divisor (GCD) of two numbers using the Euclidean\n",
    "# algorithm.\n",
    "def GCD(a,b):\n",
    "    while(b):\n",
    "        a,b = b,a%b\n",
    "    return a\n",
    "\n",
    "##main\n",
    "a = int(input(\"Enter your first number:\"))\n",
    "b = int(input(\"Enter your first number:\"))\n",
    "print(f\"your GCD of {a} and {b} is {GCD(a,b)}\" )"
   ]
  },
  {
   "cell_type": "code",
   "execution_count": 1,
   "id": "08c191d3-7ced-4aba-8b9a-6210b7cc19ea",
   "metadata": {},
   "outputs": [
    {
     "name": "stdin",
     "output_type": "stream",
     "text": [
      "Enter row1 size: 2\n",
      "Enter column1 size: 2\n",
      "Enter row2 size: 2\n",
      "Enter column2 size: 2\n"
     ]
    },
    {
     "name": "stdout",
     "output_type": "stream",
     "text": [
      "Enter your matrix 1\n"
     ]
    },
    {
     "name": "stdin",
     "output_type": "stream",
     "text": [
      "Enter element of row 1 and column 1: 1\n",
      "Enter element of row 1 and column 2: 2\n",
      "Enter element of row 2 and column 1: 3\n",
      "Enter element of row 2 and column 2: 4\n"
     ]
    },
    {
     "name": "stdout",
     "output_type": "stream",
     "text": [
      "Enter your matrix 2\n"
     ]
    },
    {
     "name": "stdin",
     "output_type": "stream",
     "text": [
      "Enter element of row 1 and column 1: 2\n",
      "Enter element of row 1 and column 2: 3\n",
      "Enter element of row 2 and column 1: 6\n",
      "Enter element of row 2 and column 2: 4\n"
     ]
    },
    {
     "name": "stdout",
     "output_type": "stream",
     "text": [
      "your your mat1 is \n",
      "1.0 2.0\n",
      "3.0 4.0\n",
      "your your mat1 is \n",
      "2.0 3.0\n",
      "6.0 4.0\n",
      "your multiplication result \n",
      "4.0 12.0\n",
      "36.0 32.0\n"
     ]
    }
   ],
   "source": [
    "# 34. Build a program that performs matrix multiplication using nested loops and conditional statements.\n",
    "def input_matrix(row,col):\n",
    "    mat = []\n",
    "    for i in range(row):\n",
    "        row = []\n",
    "        for j in range(col):\n",
    "            ele = float(input(f\"Enter element of row {i+1} and column {j+1}:\"))\n",
    "            row.append(ele)\n",
    "        mat.append(row)\n",
    "    return mat\n",
    "def mul_mat(mat1,mat2):\n",
    "    if len(mat1[0]) != len(mat2):\n",
    "        return None\n",
    "    # if len(matrix1[0]) != len(matrix2):\n",
    "    #     return None\n",
    "    result = []\n",
    "    for i in range(len(mat1)):\n",
    "        row = []\n",
    "        for j in range(len(mat2[0])):\n",
    "            ele = 0\n",
    "            for k in range(len(mat2)):\n",
    "                ele+=(mat1[i][j]*mat2[i][j])\n",
    "            row.append(ele)\n",
    "        result.append(row)\n",
    "    return result\n",
    "\n",
    "def display_mat(mat):\n",
    "    for row in mat:\n",
    "        print(\" \".join(map(str,row)))\n",
    "# main\n",
    "row = int(input(\"Enter row1 size:\"))\n",
    "col = int(input(\"Enter column1 size:\"))\n",
    "\n",
    "row2 = int(input(\"Enter row2 size:\"))\n",
    "col2 = int(input(\"Enter column2 size:\"))\n",
    "\n",
    "\n",
    "\n",
    "print(\"Enter your matrix 1\")\n",
    "mat1 = input_matrix(row,col)\n",
    "\n",
    "print(\"Enter your matrix 2\")\n",
    "mat2 = input_matrix(row2,col2)\n",
    "\n",
    "print(\"your mat1 is \")\n",
    "display_mat(mat1)\n",
    "print(\"your mat1 is \")\n",
    "display_mat(mat2)\n",
    "\n",
    "mul_mat = mul_mat(mat1,mat2)\n",
    "\n",
    "print(\"your multiplication result \")\n",
    "display_mat(mul_mat)"
   ]
  },
  {
   "cell_type": "code",
   "execution_count": 18,
   "id": "fc3c5aeb-910e-447c-b0a2-98f70c3c06c6",
   "metadata": {},
   "outputs": [
    {
     "name": "stdin",
     "output_type": "stream",
     "text": [
      "Enter your number 40\n"
     ]
    },
    {
     "name": "stdout",
     "output_type": "stream",
     "text": [
      "your fibonacci sequence :\n",
      "[0, 1, 1, 2, 3, 5, 8, 13, 21, 34, 55, 89, 144, 233, 377, 610, 987, 1597, 2584, 4181, 6765, 10946, 17711, 28657, 46368, 75025, 121393, 196418, 317811, 514229, 832040, 1346269, 2178309, 3524578, 5702887, 9227465, 14930352, 24157817, 39088169, 63245986]\n"
     ]
    }
   ],
   "source": [
    "# 36. Write a program that generates Fibonacci numbers up to a specified term using iterative methods.\n",
    "def generate_fibonacci(n):\n",
    "    fib = [0,1]\n",
    "    if(n==1):\n",
    "        return fib[0]\n",
    "    elif(n==2):\n",
    "        return fib\n",
    "    while len(fib) < n:\n",
    "        next = fib[-1] + fib[-2]\n",
    "        fib.append(next)\n",
    "    return fib\n",
    "\n",
    "\n",
    "n = int(input(\"Enter your number\"))\n",
    "if(n<0):\n",
    "    print(\"please enter positive number\")\n",
    "else:\n",
    "    print(\"your fibonacci sequence :\")\n",
    "    print(generate_fibonacci(n))"
   ]
  },
  {
   "cell_type": "code",
   "execution_count": 19,
   "id": "2fc9421c-844a-4ec7-b282-9dc99458eefd",
   "metadata": {},
   "outputs": [
    {
     "name": "stdin",
     "output_type": "stream",
     "text": [
      "Enter your number: 10\n"
     ]
    },
    {
     "name": "stdout",
     "output_type": "stream",
     "text": [
      "your fibonacci number of 10 is 55\n"
     ]
    }
   ],
   "source": [
    "# 37. Develop a program that calculates the nth term of the Fibonacci sequence using memoization.\n",
    "def fib(n): ##this function is used to return fibonacci number on a perticular nth term\n",
    "    if(n==0): #if n is equal to 0 then return 0\n",
    "        return 0\n",
    "    elif(n==1): #elif n is equal to one then return one \n",
    "        return 1\n",
    "    else: #else use recursion technique and recusively call it self again again\n",
    "        return fib(n-1) + fib(n-2)\n",
    "    \n",
    "#this line is used to take input from user\n",
    "n = int(input(\"Enter your number:\"))\n",
    "##call fib function which is used to return fibonacci number on a prticular specified nth term\n",
    "print(f\"your fibonacci number of {n} is {fib(n)}\")"
   ]
  },
  {
   "cell_type": "code",
   "execution_count": 21,
   "id": "9817bf7f-b77c-49c4-93ce-431b7ffdc400",
   "metadata": {},
   "outputs": [
    {
     "name": "stdin",
     "output_type": "stream",
     "text": [
      "Enter your manth (1 to 12): 5\n",
      "Enter your year (like:'2002'): 1999\n"
     ]
    },
    {
     "name": "stdout",
     "output_type": "stream",
     "text": [
      "      May 1999\n",
      "Mo Tu We Th Fr Sa Su\n",
      "                1  2\n",
      " 3  4  5  6  7  8  9\n",
      "10 11 12 13 14 15 16\n",
      "17 18 19 20 21 22 23\n",
      "24 25 26 27 28 29 30\n",
      "31\n",
      "\n"
     ]
    }
   ],
   "source": [
    "#38. Create a program that generates a calendar for a given month and year using conditional statements.\n",
    "import calendar #this library is used for calander related function\n",
    "def generate_calander(year,month): #this function is used to return month of the calander\n",
    "    cal = calendar.month(year,month)  ##in cal variable store month this is excecute using calander library and in calander month fuction\n",
    "    print(cal) ##print this cal attribute\n",
    "month = int(input(\"Enter your month (1 to 12):\")) ##take month from user \n",
    "year = int(input(\"Enter your year (like:'2002'):\")) ##take year from user\n",
    "if(1<=month<=12): ##if month is lies between 1 to 12 then call  generate_calander(year,month) else print invalid input\n",
    "    generate_calander(year,month)\n",
    "else:\n",
    "    print(\"Invalid input: please Enter a month between (1 to 12) \")"
   ]
  },
  {
   "cell_type": "code",
   "execution_count": 32,
   "id": "03f04e7c-14f1-457a-a7be-0909e543a18a",
   "metadata": {},
   "outputs": [
    {
     "ename": "TypeError",
     "evalue": "unsupported operand type(s) for +: 'int' and 'tuple'",
     "output_type": "error",
     "traceback": [
      "\u001b[0;31m---------------------------------------------------------------------------\u001b[0m",
      "\u001b[0;31mTypeError\u001b[0m                                 Traceback (most recent call last)",
      "Cell \u001b[0;32mIn[32], line 38\u001b[0m\n\u001b[1;32m     36\u001b[0m \u001b[38;5;66;03m# Main game loop\u001b[39;00m\n\u001b[1;32m     37\u001b[0m \u001b[38;5;28;01mwhile\u001b[39;00m \u001b[38;5;28;01mTrue\u001b[39;00m:\n\u001b[0;32m---> 38\u001b[0m     \u001b[43mdisplay_hands\u001b[49m\u001b[43m(\u001b[49m\u001b[43mplayer_hand\u001b[49m\u001b[43m,\u001b[49m\u001b[43m \u001b[49m\u001b[43mdealer_hand\u001b[49m\u001b[43m)\u001b[49m\n\u001b[1;32m     40\u001b[0m     \u001b[38;5;66;03m# Check for player blackjack or bust\u001b[39;00m\n\u001b[1;32m     41\u001b[0m     \u001b[38;5;28;01mif\u001b[39;00m calculate_hand_value(player_hand) \u001b[38;5;241m==\u001b[39m \u001b[38;5;241m21\u001b[39m:\n",
      "Cell \u001b[0;32mIn[32], line 13\u001b[0m, in \u001b[0;36mdisplay_hands\u001b[0;34m(player_hand, dealer_hand)\u001b[0m\n\u001b[1;32m     12\u001b[0m \u001b[38;5;28;01mdef\u001b[39;00m \u001b[38;5;21mdisplay_hands\u001b[39m(player_hand, dealer_hand):\n\u001b[0;32m---> 13\u001b[0m     \u001b[38;5;28mprint\u001b[39m(\u001b[38;5;124m\"\u001b[39m\u001b[38;5;124mYour hand:\u001b[39m\u001b[38;5;124m\"\u001b[39m, player_hand, \u001b[38;5;124m\"\u001b[39m\u001b[38;5;124m (Total:\u001b[39m\u001b[38;5;124m\"\u001b[39m, \u001b[43mcalculate_hand_value\u001b[49m\u001b[43m(\u001b[49m\u001b[43mplayer_hand\u001b[49m\u001b[43m)\u001b[49m, \u001b[38;5;124m\"\u001b[39m\u001b[38;5;124m)\u001b[39m\u001b[38;5;124m\"\u001b[39m)\n\u001b[1;32m     14\u001b[0m     \u001b[38;5;28mprint\u001b[39m(\u001b[38;5;124m\"\u001b[39m\u001b[38;5;124mDealer\u001b[39m\u001b[38;5;124m'\u001b[39m\u001b[38;5;124ms hand:\u001b[39m\u001b[38;5;124m\"\u001b[39m, dealer_hand[\u001b[38;5;241m0\u001b[39m], \u001b[38;5;124m\"\u001b[39m\u001b[38;5;124m ?\u001b[39m\u001b[38;5;124m\"\u001b[39m)\n",
      "Cell \u001b[0;32mIn[32], line 5\u001b[0m, in \u001b[0;36mcalculate_hand_value\u001b[0;34m(hand)\u001b[0m\n\u001b[1;32m      4\u001b[0m \u001b[38;5;28;01mdef\u001b[39;00m \u001b[38;5;21mcalculate_hand_value\u001b[39m(hand):\n\u001b[0;32m----> 5\u001b[0m     value \u001b[38;5;241m=\u001b[39m \u001b[38;5;28;43msum\u001b[39;49m\u001b[43m(\u001b[49m\u001b[43mhand\u001b[49m\u001b[43m)\u001b[49m\n\u001b[1;32m      6\u001b[0m     \u001b[38;5;28;01mif\u001b[39;00m \u001b[38;5;241m11\u001b[39m \u001b[38;5;129;01min\u001b[39;00m hand \u001b[38;5;129;01mand\u001b[39;00m value \u001b[38;5;241m>\u001b[39m \u001b[38;5;241m21\u001b[39m:\n\u001b[1;32m      7\u001b[0m         hand\u001b[38;5;241m.\u001b[39mremove(\u001b[38;5;241m11\u001b[39m)\n",
      "\u001b[0;31mTypeError\u001b[0m: unsupported operand type(s) for +: 'int' and 'tuple'"
     ]
    }
   ],
   "source": [
    "import random\n",
    "\n",
    "# Function to calculate the total value of a hand\n",
    "def calculate_hand_value(hand):\n",
    "    value = sum(hand)\n",
    "    if 11 in hand and value > 21:\n",
    "        hand.remove(11)\n",
    "        hand.append(1)\n",
    "    return value\n",
    "\n",
    "# Function to display the current hands\n",
    "def display_hands(player_hand, dealer_hand):\n",
    "    print(\"Your hand:\", player_hand, \" (Total:\", calculate_hand_value(player_hand), \")\")\n",
    "    print(\"Dealer's hand:\", dealer_hand[0], \" ?\")\n",
    "\n",
    "# Initialize the deck\n",
    "suits = ['Hearts', 'Diamonds', 'Clubs', 'Spades']\n",
    "ranks = ['Two', 'Three', 'Four', 'Five', 'Six', 'Seven', 'Eight', 'Nine', 'Ten', 'Jack', 'Queen', 'King', 'Ace']\n",
    "values = [2, 3, 4, 5, 6, 7, 8, 9, 10, 10, 10, 10, 11]  # Note: Ace can be 1 or 11\n",
    "\n",
    "deck = [(rank, suit, value) for suit in suits for rank, value in zip(ranks, values)]\n",
    "\n",
    "# Initialize player and dealer hands\n",
    "player_hand = []\n",
    "dealer_hand = []\n",
    "\n",
    "# Shuffle the deck\n",
    "random.shuffle(deck)\n",
    "\n",
    "# Deal the initial cards\n",
    "player_hand.append(deck.pop())\n",
    "dealer_hand.append(deck.pop())\n",
    "player_hand.append(deck.pop())\n",
    "dealer_hand.append(deck.pop())\n",
    "\n",
    "# Main game loop\n",
    "while True:\n",
    "    display_hands(player_hand, dealer_hand)\n",
    "\n",
    "    # Check for player blackjack or bust\n",
    "    if calculate_hand_value(player_hand) == 21:\n",
    "        print(\"Blackjack! You win!\")\n",
    "        break\n",
    "    elif calculate_hand_value(player_hand) > 21:\n",
    "        print(\"Bust! You lose!\")\n",
    "        break\n",
    "\n",
    "    # Ask the player to hit or stand\n",
    "    choice = input(\"Do you want to 'Hit' or 'Stand'? \").lower()\n",
    "\n",
    "    if choice == 'hit':\n",
    "        player_hand.append(deck.pop())\n",
    "    elif choice == 'stand':\n",
    "        # Dealer's turn\n",
    "        while calculate_hand_value(dealer_hand) < 17:\n",
    "            dealer_hand.append(deck.pop())\n",
    "\n",
    "        display_hands(player_hand, dealer_hand)\n",
    "\n",
    "        # Check for dealer blackjack or bust\n",
    "        if calculate_hand_value(dealer_hand) == 21:\n",
    "            print(\"Dealer has blackjack. You lose!\")\n",
    "        elif calculate_hand_value(dealer_hand) > 21:\n",
    "            print(\"Dealer busts. You win!\")\n",
    "        elif calculate_hand_value(player_hand) > calculate_hand_value(dealer_hand):\n",
    "            print(\"You win!\")\n",
    "        elif calculate_hand_value(player_hand) < calculate_hand_value(dealer_hand):\n",
    "            print(\"You lose!\")\n",
    "        else:\n",
    "            print(\"It's a tie!\")\n",
    "\n",
    "        break\n",
    "    else:\n",
    "        print(\"Invalid choice. Please enter 'Hit' or 'Stand'.\")\n",
    "\n",
    "# End of the game\n",
    "print(\"Thanks for playing!\")\n"
   ]
  },
  {
   "cell_type": "code",
   "execution_count": 7,
   "id": "7e52c072-706a-4fde-9197-d0a0354018b9",
   "metadata": {},
   "outputs": [
    {
     "name": "stdin",
     "output_type": "stream",
     "text": [
      "Enter your number for prime factor: 1056\n"
     ]
    },
    {
     "name": "stdout",
     "output_type": "stream",
     "text": [
      "[2, 2, 2, 2, 2, 3, 11]\n"
     ]
    }
   ],
   "source": [
    "# 40. Write a program that generates the prime factors of a given number using trial division.\n",
    "##this fuction is use to return prime factor of number a number\n",
    "def primefactor(n):\n",
    "    factor = [] ##this empty list is used to store prime number\n",
    "    divisior = 2 ##a divisiour is take for division \n",
    "    while(divisior<=n): \n",
    "        if(n%divisior==0): ##if n%divisiour is equal to zero then append this diviour to prim list\n",
    "            factor.append(divisior)\n",
    "            n//=divisior ##and n is decrese by n divide by divisiour\n",
    "        else:\n",
    "            divisior+=1 ##else increment divisiour by one\n",
    "    return factor\n",
    "            \n",
    "##in This line we take an input from user \n",
    "n = int(input(\"Enter your number for prime factor:\"))\n",
    "#if this input is less then 2 then prime factor is not possible else call primefactor() fubnction \n",
    "if(n<2):\n",
    "    print(\"prime factor is not possible of this number\")\n",
    "else:\n",
    "    factors = primefactor(n)\n",
    "    print(factors)"
   ]
  }
 ],
 "metadata": {
  "kernelspec": {
   "display_name": "Python 3 (ipykernel)",
   "language": "python",
   "name": "python3"
  },
  "language_info": {
   "codemirror_mode": {
    "name": "ipython",
    "version": 3
   },
   "file_extension": ".py",
   "mimetype": "text/x-python",
   "name": "python",
   "nbconvert_exporter": "python",
   "pygments_lexer": "ipython3",
   "version": "3.10.8"
  }
 },
 "nbformat": 4,
 "nbformat_minor": 5
}
